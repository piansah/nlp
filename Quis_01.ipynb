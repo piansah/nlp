{
 "cells": [
  {
   "cell_type": "code",
   "execution_count": 115,
   "metadata": {},
   "outputs": [],
   "source": [
    "import pandas as pd\n",
    "import numpy as np\n",
    "import re\n",
    "import matplotlib.pyplot as plt\n",
    "from scipy import stats\n",
    "from sklearn.feature_extraction.text import TfidfVectorizer\n"
   ]
  },
  {
   "cell_type": "code",
   "execution_count": 116,
   "metadata": {},
   "outputs": [
    {
     "data": {
      "text/html": [
       "<div>\n",
       "<style scoped>\n",
       "    .dataframe tbody tr th:only-of-type {\n",
       "        vertical-align: middle;\n",
       "    }\n",
       "\n",
       "    .dataframe tbody tr th {\n",
       "        vertical-align: top;\n",
       "    }\n",
       "\n",
       "    .dataframe thead th {\n",
       "        text-align: right;\n",
       "    }\n",
       "</style>\n",
       "<table border=\"1\" class=\"dataframe\">\n",
       "  <thead>\n",
       "    <tr style=\"text-align: right;\">\n",
       "      <th></th>\n",
       "      <th>Kalimat</th>\n",
       "    </tr>\n",
       "  </thead>\n",
       "  <tbody>\n",
       "    <tr>\n",
       "      <th>0</th>\n",
       "      <td>Dalam biologi sel adalah kumpulan materi palin...</td>\n",
       "    </tr>\n",
       "    <tr>\n",
       "      <th>1</th>\n",
       "      <td>Sel mampu melakukan semua aktivitas kehidupan ...</td>\n",
       "    </tr>\n",
       "    <tr>\n",
       "      <th>2</th>\n",
       "      <td>Kebanyakan makhluk hidup tersusun atas sel tun...</td>\n",
       "    </tr>\n",
       "    <tr>\n",
       "      <th>3</th>\n",
       "      <td>Makhluk hidup lainnya termasuk tumbuhan hewan ...</td>\n",
       "    </tr>\n",
       "    <tr>\n",
       "      <th>4</th>\n",
       "      <td>Tubuh manusia misalnya tersusun atas lebih dar...</td>\n",
       "    </tr>\n",
       "    <tr>\n",
       "      <th>...</th>\n",
       "      <td>...</td>\n",
       "    </tr>\n",
       "    <tr>\n",
       "      <th>272</th>\n",
       "      <td>Sentrifuge yang paling canggih yang disebut ul...</td>\n",
       "    </tr>\n",
       "    <tr>\n",
       "      <th>273</th>\n",
       "      <td>rotasi per menit rpm dan memberikan gaya pada ...</td>\n",
       "    </tr>\n",
       "    <tr>\n",
       "      <th>274</th>\n",
       "      <td>kali gaya gravitasi bumi</td>\n",
       "    </tr>\n",
       "    <tr>\n",
       "      <th>275</th>\n",
       "      <td>Pemutaran homogenat di dalam sentrifuge akan m...</td>\n",
       "    </tr>\n",
       "    <tr>\n",
       "      <th>276</th>\n",
       "      <td>Supernatan ini disentrifugasi kembali dan pros...</td>\n",
       "    </tr>\n",
       "  </tbody>\n",
       "</table>\n",
       "<p>277 rows × 1 columns</p>\n",
       "</div>"
      ],
      "text/plain": [
       "                                               Kalimat\n",
       "0    Dalam biologi sel adalah kumpulan materi palin...\n",
       "1    Sel mampu melakukan semua aktivitas kehidupan ...\n",
       "2    Kebanyakan makhluk hidup tersusun atas sel tun...\n",
       "3    Makhluk hidup lainnya termasuk tumbuhan hewan ...\n",
       "4    Tubuh manusia misalnya tersusun atas lebih dar...\n",
       "..                                                 ...\n",
       "272  Sentrifuge yang paling canggih yang disebut ul...\n",
       "273  rotasi per menit rpm dan memberikan gaya pada ...\n",
       "274                           kali gaya gravitasi bumi\n",
       "275  Pemutaran homogenat di dalam sentrifuge akan m...\n",
       "276  Supernatan ini disentrifugasi kembali dan pros...\n",
       "\n",
       "[277 rows x 1 columns]"
      ]
     },
     "execution_count": 116,
     "metadata": {},
     "output_type": "execute_result"
    }
   ],
   "source": [
    "df = pd.read_csv('kalimat.csv')\n",
    "df"
   ]
  },
  {
   "cell_type": "code",
   "execution_count": 117,
   "metadata": {},
   "outputs": [
    {
     "name": "stdout",
     "output_type": "stream",
     "text": [
      "277\n"
     ]
    }
   ],
   "source": [
    "print(df.shape[0])"
   ]
  },
  {
   "cell_type": "code",
   "execution_count": 118,
   "metadata": {},
   "outputs": [
    {
     "name": "stdout",
     "output_type": "stream",
     "text": [
      "4851\n"
     ]
    }
   ],
   "source": [
    "kalimatpanjang= \"\".join(df.values[:,0]).lower()\n",
    "print(len(kalimatpanjang.split()))"
   ]
  },
  {
   "cell_type": "code",
   "execution_count": 119,
   "metadata": {},
   "outputs": [
    {
     "name": "stdout",
     "output_type": "stream",
     "text": [
      "yang\n"
     ]
    }
   ],
   "source": [
    "from collections import Counter\n",
    "kamus = Counter(kalimatpanjang.split())\n",
    "kamus = [[kamus[_],_] for _ in kamus]\n",
    "kamus = sorted(kamus)\n",
    "print(kamus[-1][1])"
   ]
  },
  {
   "cell_type": "code",
   "execution_count": 120,
   "metadata": {},
   "outputs": [
    {
     "name": "stdout",
     "output_type": "stream",
     "text": [
      "sel\n"
     ]
    }
   ],
   "source": [
    "print(kamus[-2][1])"
   ]
  },
  {
   "cell_type": "code",
   "execution_count": 121,
   "metadata": {},
   "outputs": [
    {
     "name": "stdout",
     "output_type": "stream",
     "text": [
      "Counter({'a': 5147, ' ': 4850, 'e': 3080, 'n': 3008, 'i': 2636, 's': 1928, 'r': 1738, 't': 1731, 'm': 1722, 'u': 1668, 'l': 1659, 'k': 1459, 'd': 1281, 'g': 1097, 'o': 1052, 'b': 993, 'p': 922, 'y': 544, 'h': 536, 'j': 210, 'c': 160, 'f': 105, 'w': 86, 'v': 49, 'z': 15, 'q': 1})\n",
      "a\n"
     ]
    }
   ],
   "source": [
    "kalimatpanjang_aa = \"\".join(df.values[:,0]).lower()\n",
    "kamus = Counter(kalimatpanjang_aa)\n",
    "print(kamus)\n",
    "kamus = sorted([[kamus[_],_]for _ in kamus])\n",
    "print(kamus[-1][1])"
   ]
  },
  {
   "cell_type": "code",
   "execution_count": 122,
   "metadata": {},
   "outputs": [
    {
     "name": "stdout",
     "output_type": "stream",
     "text": [
      "q\n"
     ]
    }
   ],
   "source": [
    "print(kamus[0][1])"
   ]
  },
  {
   "cell_type": "code",
   "execution_count": 123,
   "metadata": {},
   "outputs": [
    {
     "name": "stdout",
     "output_type": "stream",
     "text": [
      "1\n"
     ]
    }
   ],
   "source": [
    "print(kamus[0][0])"
   ]
  },
  {
   "cell_type": "code",
   "execution_count": 124,
   "metadata": {},
   "outputs": [
    {
     "name": "stdout",
     "output_type": "stream",
     "text": [
      "797\n",
      "['mempertahankan', 'berlangsung', 'selkebanyakan', 'uniseluler', 'amoebamakhluk', 'multiseluler', 'terspesialisasi', 'masingmasingtubuh', 'pembelahan', 'selcontohnya', 'pembelahan', 'pembelahan', 'dibuahiselsel', 'multiseluler', 'masingmasing', 'sendirisel', 'dikelompokkan', 'tersebutcontohnya', 'manusiasementara', 'komponenkomponen', 'organelsel', 'mycoplasma', 'dibuahiakan', 'berdiameter', 'mikroskoppenemuan', 'memperoleh', 'penyempurnaan', 'mendeskripsikan', 'perbesaran', 'dirumuskan', 'schwannselanjutnya', 'selsejarahpenemuan', 'awalmikroskop', 'menggunakan', 'minyakgambar', 'mikroskopnyamikroskop', 'selanjutnya', 'dikembangkan', 'inggrishingga', 'pertengahan', 'perbesaran', 'kaliilmuwan', 'digunakania', 'irisanirisan', 'menjabarkan', 'mikroskopik', 'berporipori', 'poriporinya', 'diterbitkan', 'tahunhooke', 'penjarayang', 'sebenarnya', 'melingkupi', 'cairanpada', 'leeuwenhoek', 'menciptakan', 'mikroskopnya', 'menggunakannya', 'spermatozoid', 'bakteripada', 'mengirimkan', 'kegiatannya', 'perkumpulan', 'menerbitkannyapada', 'leeuwenhoek', 'menggambarkan', 'bergerakgerak', 'diamatinya', 'mikroskopia', 'menyebutnya', 'diterjemahkan', 'animalcule', 'modernpada', 'menjabarkan', 'kecilmenurut', 'pengamatannya', 'dikelilingi', 'kukuhnehemiah', 'menjabarkan', 'tulisannya', 'diterbitkan', 'kloroplasteori', 'selartikel', 'selbeberapa', 'berspekulasi', 'diperdebatkan', 'menyatakan', 'manifestasi', 'menyatakan', 'pentingnya', 'pembentukan', 'nukleuspada', 'berdiskusi', 'sebagaimana', 'mengamatinya', 'menyatakan', 'selmenurutnya', 'pembentukan', 'pembentukan', 'selilmuwan', 'sebagaimana', 'virchowpada', 'sependapat', 'pembentukan', 'pengamatan', 'mikroskopis', 'membuatnya', 'menyimpulkan', 'disimpulkan', 'pengamatannya', 'pembelahan', 'menerbitkan', 'makalahnya', 'selperkembangan', 'fertilisasi', 'mitokondria', 'golgilahirlah', 'mempelajari', 'sitologiperkembangan', 'fraksinasi', 'mikroskopi', 'memungkinkan', 'melahirkan', 'perhimpunan', 'setelahnya', 'biochemical', 'biophysical', 'biologypada', 'perhimpunan', 'mengungkapkan', 'selstruktursemua', 'sitoplasmasetiap', 'mengandung', 'diwariskan', 'mengarahkan', 'tersebutselain', 'tersebutsetiap', 'prokariotik', 'eukariotikkedua', 'berdasarkan', 'terselubung', 'prokariota', 'nukleushanya', 'prokariotik', 'eukariotiksel', 'prokariotaartikel', 'prokariotagambaran', 'prokariotapada', 'prokariota', 'memisahkan', 'terkonsentrasi', 'sitoplasma', 'nukleoidkebanyakan', 'prokariota', 'uniseluler', 'berdiameter', 'sitoplasma', 'lainhampir', 'prokariotik', 'selnyajika', 'mengandung', 'karbohidrat', 'karbohidratprotein', 'peptidoglikan', 'selkebanyakan', 'peptidoglikan', 'proteinsementara', 'kebanyakan', 'peptidoglikanselubung', 'prokariota', 'lingkungan', 'konsentrasi', 'selsejumlah', 'prokariota', 'selnyabanyak', 'lainkapsul', 'menghindar', 'tertentuselain', 'fimbriaebanyak', 'menggunakan', 'motorprokariota', 'terkonsentrasi', 'nukleoidselain', 'prokariota', 'berstruktur', 'lingkarpada', 'dibutuhkan', 'pertumbuhan', 'memberikan', 'keuntungan', 'resistansi', 'antibiotikprokariota', 'struktural', 'sitoskeleton', 'eukariotaprotein', 'meregulasi', 'pembelahan', 'menentukan', 'eukariotaartikel', 'eukariotagambaran', 'tumbuhangambaran', 'hewantidak', 'prokariota', 'sebenarnya', 'nukleusdiameter', 'bakterisitoplasma', 'selsitoplasma', 'organelorganel', 'terspesialisasi', 'prokariotakebanyakan', 'nukleusselain', 'mitokondria', 'metabolisme', 'endoplasma', 'glikoprotein', 'mengarahkan', 'peroksisom', 'perombakan', 'aminolisosom', 'menguraikan', 'dimasukkan', 'tumbuhankloroplas', 'terjadinya', 'fotosintesis', 'uniselulerbaik', 'uniseluler', 'terjadinya', 'penguraianjaringan', 'sitoskeleton', 'mempertahankan', 'mengendalikan', 'pergerakan', 'eukariotasentriol', 'sitoskeletondinding', 'mengelilingi', 'membuatnya', 'tegarfungi', 'komposisinya', 'tumbuhandi', 'bersebelahan', 'plasmodesmatakomponen', 'subselulermembranmembran', 'fosfolipid', 'proteinartikel', 'selmembran', 'memungkinkan', 'selmembran', 'pensinyalan', 'selmembran', 'proteinmembran', 'kebanyakan', 'molekulnya', 'membranmolekul', 'penghalang', 'kebanyakan', 'hidrofilikmolekulmolekul', 'mengangkut', 'membranada', 'struktural', 'mendeteksi', 'menyalurkan', 'lingkungan', 'seldiperkirakan', 'disintesis', 'membrannukleusartikel', 'selnukleus', 'bagianbagiannyanukleus', 'mengandung', 'mengendalikan', 'mitokondria', 'kloroplasdengan', 'eukariotakebanyakan', 'kehilangan', 'nukleusnya', 'berkembangselubung', 'melingkupi', 'memisahkan', 'nukleoplasma', 'sitoplasmaselubung', 'masingmasing', 'terkaitmembran', 'dipisahkan', 'nmselubung', 'berdiameter', 'terorganisasi', 'kromatinsewaktu', 'menggulung', 'kromosomstruktur', 'disintesis', 'dirakitkomponenkomponen', 'dilewatkan', 'sitoplasma', 'ribosomkadangkadang', 'bergantung', 'spesiesnya', 'reproduksi', 'tersebutnukleus', 'mengedalikan', 'sitoplasma', 'disintesis', 'berdasarkan', 'dikeluarkan', 'sitoplasma', 'diterjemahkan', 'disintesisribosomartikel', 'ribosomribosom', 'proteinsel', 'ribosomribosom', 'rnaribosom', 'prokariota', 'fungsikeduanya', 'daltonpada', 'endoplasmasebagian', 'diproduksi', 'dimasukkan', 'selribosom', 'menyesuaikan', 'masingmasing', 'metabolismenya', 'berubahsistem', 'endomembransistem', 'endomembran', 'selberbagai', 'endomembranmembran', 'dihubungkan', 'antarsegmen', 'kecilsistem', 'endomembran', 'endoplasma', 'plasmasistem', 'modifikasi', 'penetralan', 'racunretikulum', 'endoplasmaartikel', 'endoplasmaretikulum', 'endoplasma', 'bermembran', 'terhubungterdapat', 'endoplasma', 'endoplasma', 'endoplasma', 'halusretikulum', 'endoplasma', 'permukaannya', 'ribosomribosom', 'mensintesis', 'endoplasma', 'kasarprotein', 'endoplasma', 'dimodifikasi', 'penambahan', 'karbohidrat', 'glikoproteinprotein', 'dipindahkan', 'endoplasma', 'modifikasi', 'distribusinyakebanyakan', 'memilahnya', 'diantarkan', 'akhirnyaretikulum', 'endoplasma', 'permukaannyaretikulum', 'endoplasma', 'endoplasma', 'mengandung', 'obatobatan', 'metabolisme', 'senyawasenyawa', 'dikeluarkan', 'tubuhbadan', 'golgiartikel', 'golgistruktur', 'golgibadan', 'sisternabiasanya', 'sisternajumlah', 'bergantung', 'metabolismenyasel', 'golgiorganel', 'endoplasma', 'plasmasisi', 'transketika', 'dimasukkan', 'sisternadi', 'dimodifikasi', 'penambahan', 'karbohidrat', 'dipilahpilah', 'masingmasingbadan', 'pergerakan', 'disekresikan', 'digabungkan', 'transmembran', 'ditempatkan', 'lisosomprotein', 'disekresikan', 'melepaskan', 'eksositosisproses', 'sebaliknya', 'endositosis', 'endositosis', 'lisosomlisosomartikel', 'lisosomlisosom', 'hidrolitik', 'menguraikan', 'komplekssel', 'menggunakan', 'itubergantung', 'diuraikannya', 'bentukorganel', 'melepaskan', 'golgilisosom', 'menguraikan', 'endositosis', 'endositosis', 'lisosomdalam', 'benarlisosom', 'fagositosis', 'diuraikancontoh', 'fagositosis', 'tubuhvakuolaartikel', 'vakuolakebanyakan', 'tumbuhanmembran', 'endomembran', 'tonoplasvakuola', 'internalumumnya', 'vesikelsel', 'mengandung', 'penambahan', 'dalamnyaukuran', 'diperbesar', 'menambahkan', 'tersebutvakuola', 'mengandung', 'garamgaram', 'metabolismezat', 'pertahananvakuola', 'mempertahankan', 'tumbuhanvakuola', 'uniselulerkebanyakan', 'dicernabeberapa', 'kontraktil', 'mengeluarkan', 'selmitokondriaartikel', 'mitokondriastruktur', 'mitokondriasebagian', 'mengandung', 'mitokondria', 'sitoplasmaorganel', 'kloroplasnama', 'mitokondria', 'penampakannya', 'cahayaorganel', 'dipisahkan', 'antarmembranluas', 'lipatanlipatan', 'mitokondriamitokondria', 'berlangsungnya', 'selkarbohidrat', 'reaksireaksi', 'mitokondria', 'energikebanyakan', 'atpmitokondrialah', 'menghasilkan', 'menjalankan', 'selsebagian', 'enzimenzim', 'mitokondriamitokondria', 'memperbanyak', 'independen', 'keseluruhan', 'lainorganel', 'menyandikan', 'mitokondria', 'ribosomnya', 'prokariotakloroplasartikel', 'kloroplasstruktur', 'kloroplaskloroplas', 'algakloroplas', 'mengandung', 'fotosintesis', 'serangkaian', 'karbohidrat', 'uniseluler', 'kloroplasorganel', 'mitokondria', 'lebihkloroplas', 'mitokondria', 'dipisahkan', 'antarmembranmembran', 'menyelimuti', 'bertanggung', 'karbohidrat', 'fotosintesissuatu', 'kantongkantong', 'berhubungantilakoidtilakoid', 'granaklorofil', 'mitokondria', 'pembentukan', 'atpsebagian', 'dikeluarkan', 'sitoplasma', 'karbohidratsama', 'mitokondria', 'ribosomnya', 'memperbanyak', 'sendirikedua', 'berpindahpindah', 'selperoksisomartikel', 'peroksisomperoksisom', 'eukariotaorganel', 'mengandung', 'menghasilkan', 'hohidrogen', 'peroksisom', 'oksigensalah', 'peroksisom', 'mengoksidasi', 'mitokondria', 'sempurnaperoksisom', 'mendetoksifikasi', 'alkoholsementara', 'peroksisom', 'karbohidrat', 'perkecambahansitoskeletonsitoskeleton', 'mikrotubulus', 'mikrofilamen', 'merahartikel', 'sitoskeletonsitoskeleton', 'mikrotubulus', 'intermediat', 'mikrofilamenprotein', 'sitoskeleton', 'sitoskeleton', 'prokariotamikrotubulus', 'pergerakan', 'pembelahan', 'pergerakan', 'mikrotubulusfilamen', 'intermediat', 'tempatnyasementara', 'mikrofilamen', 'pembentukan', 'pseudopodia', 'pergerakan', 'sitoplasma', 'tumbuhansejumlah', 'menggerakkan', 'sitoskeleton', 'eukariotasecara', 'digolongkan', 'miosinkinesin', 'mikrotubulus', 'mikrofilamenkomponen', 'ekstraselulerartikel', 'ekstraseluler', 'ekstraseluler', 'disekresikan', 'pendukungterutama', 'kebanyakan', 'selmatriks', 'ekstraseluler', 'hewanmatriks', 'ekstraseluler', 'glikoprotein', 'karbohidrat', 'proteoglikan', 'glikoprotein', 'ekstraseluler', 'menimbulkan', 'transparan', 'ototmatriks', 'ekstraseluler', 'menyatukan', 'memengaruhi', 'perkembangan', 'seldinding', 'tumbuhandinding', 'ekstraseluler', 'menyelubungi', 'tumbuhandinding', 'polisakarida', 'mikrometerdinding', 'melindungi', 'mempertahankan', 'pengisapan', 'berlebihansambungan', 'antarselsambungan', 'titiktitik', 'ekstraselulermenurut', 'diklasifikasikan', 'pengomunikasi', 'communicating', 'junctionsambungan', 'sedemikian', 'vertebratasementara', 'menempelkan', 'sitoskeletonnya', 'tetangganya', 'ekstraselulerterakhir', 'pengomunikasi', 'menyatukan', 'memungkinkan', 'tersebutplasmodesmata', 'pengomunikasi', 'tumbuhanfungsimetabolismeartikel', 'metabolismekeseluruhan', 'aktivitasnya', 'metabolisme', 'selmetabolisme', 'perombakan', 'menghasilkan', 'pembentukan', 'penyusunan', 'menghasilkan', 'berlangsung', 'mitokondria', 'prokariota', 'menghasilkan', 'atpsementara', 'berlangsung', 'membutuhkan', 'atpkomunikasi', 'selartikel', 'pensinyalan', 'selkemampuan', 'berkomunikasi', 'mengirimkan', 'menentukan', 'antarorganisme', 'uniseluler', 'perkembangan', 'multiselulermisalnya', 'berkomunikasi', 'pengindraan', 'menentukan', 'berkomunikasi', 'koordinasi', 'diferensiasi', 'selkomunikasi', 'transduksi', 'menghasilkan', 'selmekanisme', 'pengomunikasi', 'penyebaran', 'berdekatan', 'penyebaran', 'perambatan', 'polosselanjutnya', 'transmembran', 'transduksi', 'seltransduksi', 'melibatkan', 'konsentrasinya', 'meregulasi', 'transduksi', 'memengaruhi', 'metabolisme', 'perkembangan', 'selartikel', 'dipercepat', 'menggambarkan', 'pembelahan', 'ecolisetiap', 'pembelahan', 'sebelumnya', 'tahaptahap', 'pembelahan', 'pembelahan', 'berikutnya', 'kebanyakan', 'terkoordinasi', 'pertumbuhan', 'digandakan', 'pembelahan', 'bertumpang', 'pembelahan', 'pembelahan', 'eukariotapada', 'pertumbuhan', 'pembelahan', 'cselanjutnya', 'pembelahan', 'mitosisperalihan', 'antartahap', 'dikendalikan', 'perlengkapan', 'pengaturan', 'mengoordinasi', 'menghubungkan', 'mengendalikan', 'perbanyakan', 'selmisalnya', 'pertumbuhan', 'pertumbuhan', 'perbanyakancontohnya', 'memperbaiki', 'pengaturan', 'pembentukan', 'tumoryaitu', 'perbanyakan', 'normalmeningkat', 'berpengaruh', 'pembentukan', 'kankerdiferensiasi', 'seldiferensiasi', 'menciptakan', 'keberagaman', 'perkembangan', 'multiseluler', 'dibuahimisalnya', 'berkembang', 'kulitselsel', 'berkembang', 'pensinyalan', 'memengaruhi', 'menyebabkan', 'diferensiasi', 'tersebutkematian', 'terprogramartikel', 'apoptosissel', 'multiseluler', 'terprogram', 'pengendalian', 'mengimbangi', 'perbanyakan', 'tumorkematian', 'menghilangkan', 'diperlukancontohnya', 'pembentukan', 'antarjaridengan', 'terjadinya', 'pertumbuhan', 'pembelahan', 'terkendalikematian', 'lingkungan', 'diaktifkangejala', 'fragmentasi', 'penyusutan', 'selbiologi', 'berkembang', 'metabolismemikroskop', 'pendekatan', 'fraksinasi', 'selmikroskopisilia', 'perbesarankali', 'aslinyaartikel', 'mikroskopmikroskop', 'penemuannyajenis', 'laboratorium', 'cahayacahaya', 'dilewatkan', 'merefraksikan', 'sedemikian', 'diperbesar', 'diproyeksikan', 'mikroskopnamun', 'menguraikan', 'kecilpengembangan', 'penggunaan', 'melibatkan', 'meningkatkan', 'fluoresenselanjutnya', 'menggunakan', 'nmterdapat', 'transmission', 'microscope', 'microscope', 'rincifraksinasi', 'selartikel', 'fraksinasi', 'selfraksinasi', 'memisahkan', 'bagianbagian', 'melibatkan', 'homogenisasi', 'ultrasuara', 'sentrifugasi', 'komponenkomponen', 'sentrifugal', 'sentrifuge', 'kecepatansentrifuge', 'ultrasentrifuge', 'secepatrotasi', 'memberikan', 'partikelpartikel', 'hinggakali', 'bumipemutaran', 'sentrifuge', 'memisahkan', 'bagianbagian', 'strukturstruktur', 'sentrifuge', 'supernatan', 'bagianbagian', 'tersuspensi', 'tersebutsupernatan', 'disentrifugasi']\n"
     ]
    }
   ],
   "source": [
    "hasil = re.findall('\\w{10,}',kalimatpanjang)\n",
    "print(len(hasil))\n",
    "print(hasil)"
   ]
  },
  {
   "cell_type": "code",
   "execution_count": 125,
   "metadata": {},
   "outputs": [
    {
     "name": "stdout",
     "output_type": "stream",
     "text": [
      "445\n",
      "['Dalam', 'Sel', 'Kebanyakan', 'Makhluk', 'Tubuh', 'Namun', 'Contohnya', 'Selsel', 'Sel', 'Contohnya', 'Sementara', 'Sel', 'Mycoplasma', 'Akan', 'Penemuan', 'Robert', 'Hooke', 'Namun', 'Matthias', 'Schleiden', 'Theodor', 'Schwann', 'Selanjutnya', 'SejarahPenemuan', 'Mikroskop', 'Robert', 'Hooke', 'Gambar', 'Robert', 'Hooke', 'Mikroskop', 'Belanda', 'Italia', 'Inggris', 'Hingga', 'Ilmuwan', 'Inggris', 'Robert', 'Hooke', 'Ia', 'Hooke', 'Yang', 'Hooke', 'Ia', 'Pada', 'Belanda', 'Antony', 'Leeuwenhoek', 'Ia', 'Pada', 'Royal', 'Society', 'Inggris', 'Pada', 'Leeuwenhoek', 'Ia', 'Belanda', 'Inggris', 'Royal', 'Society', 'Pada', 'Italia', 'Marcello', 'Malpighi', 'Menurut', 'Nehemiah', 'Grew', 'Inggris', 'Teori', 'Artikel', 'Teori', 'Beberapa', 'Pada', 'Jerman', 'Matthias', 'Jakob', 'Schleiden', 'Ia', 'Robert', 'Brown', 'Pada', 'Theodor', 'Schwann', 'Schleiden', 'Schleiden', 'Menurutnya', 'Ilmuwan', 'Rudolf', 'Virchow', 'Pada', 'Schleiden', 'Namun', 'Robert', 'Remak', 'Pada', 'Virchow', 'Perkembangan', 'Antara', 'Golgi', 'Lahirlah', 'Perkembangan', 'Pada', 'American', 'Society', 'Cell', 'Biology', 'New', 'York', 'Amerika', 'Serikat', 'Journal', 'Biochemical', 'Biophysical', 'Cytology', 'Journal', 'Cell', 'Biology', 'Pada', 'StrukturSemua', 'Setiap', 'DNA', 'Selain', 'Setiap', 'Kedua', 'DNA', 'DNA', 'Hanya', 'Sel', 'Artikel', 'ProkariotaGambaran', 'Pada', 'Yunani', 'DNA', 'DNA', 'Kebanyakan', 'Hampir', 'Jika', 'Kebanyakan', 'Sementara', 'Selubung', 'Sejumlah', 'Banyak', 'Kapsul', 'Selain', 'Banyak', 'Prokariota', 'DNA', 'Selain', 'DNA', 'Pada', 'Prokariota', 'Protein', 'Sel', 'Artikel', 'EukariotaGambaran', 'Gambaran', 'Tidak', 'Yunani', 'Diameter', 'Sitoplasma', 'Sitoplasma', 'Kebanyakan', 'Selain', 'Golgi', 'Lisosom', 'Kloroplas', 'Baik', 'Jaringan', 'Sentriol', 'Dinding', 'Fungi', 'Di', 'Komponen', 'MembranMembran', 'Artikel', 'Membran', 'Membran', 'Membran', 'ATP', 'Membran', 'Membran', 'Molekul', 'Molekulmolekul', 'Ada', 'Diperkirakan', 'NukleusArtikel', 'Inti', 'Nukleus', 'Nukleus', 'Dengan', 'Kebanyakan', 'Selubung', 'Selubung', 'Membran', 'Selubung', 'Di', 'DNA', 'Sewaktu', 'Struktur', 'Komponenkomponen', 'Kadangkadang', 'Nukleus', 'RNA', 'RNA', 'DNA', 'RNA', 'RibosomArtikel', 'RibosomRibosom', 'Sel', 'Ribosom', 'RNA', 'Ribosom', 'Keduanya', 'Pada', 'Sebagian', 'Ribosom', 'Sel', 'Sistem', 'Sistem', 'Berbagai', 'Membran', 'Sistem', 'Golgi', 'Sistem', 'Retikulum', 'Artikel', 'Retikulum', 'Retikulum', 'Terdapat', 'Retikulum', 'Ribosom', 'Protein', 'Di', 'Protein', 'Kebanyakan', 'Golgi', 'Retikulum', 'Retikulum', 'Dalam', 'Badan', 'GolgiArtikel', 'Badan', 'GolgiStruktur', 'Golgi', 'Badan', 'Golgi', 'Camillo', 'Golgi', 'Biasanya', 'Golgi', 'Jumlah', 'Golgi', 'Sel', 'Golgi', 'Organel', 'Sisi', 'Golgi', 'Ketika', 'Di', 'Badan', 'Golgi', 'Protein', 'Proses', 'Golgi', 'LisosomArtikel', 'LisosomLisosom', 'Sel', 'Bergantung', 'Organel', 'Golgi', 'Lisosom', 'Dalam', 'Lisosom', 'Contoh', 'VakuolaArtikel', 'VakuolaKebanyakan', 'Membran', 'Vakuola', 'Latin', 'Umumnya', 'Sel', 'Ukuran', 'Vakuola', 'Zat', 'Vakuola', 'Vakuola', 'Kebanyakan', 'Beberapa', 'MitokondriaArtikel', 'MitokondriaStruktur', 'Sebagian', 'Organel', 'Nama', 'Yunani', 'Organel', 'Luas', 'Mitokondria', 'Karbohidrat', 'Kebanyakan', 'ATP', 'Mitokondrialah', 'ATP', 'Energi', 'ATP', 'Sebagian', 'ATP', 'Mitokondria', 'Organel', 'DNA', 'KloroplasArtikel', 'KloroplasStruktur', 'Kloroplas', 'Kloroplas', 'Satu', 'Organel', 'Kloroplas', 'Membran', 'Suatu', 'Tilakoidtilakoid', 'Klorofil', 'ATP', 'Sebagian', 'ATP', 'Sama', 'DNA', 'Kedua', 'PeroksisomArtikel', 'PeroksisomPeroksisom', 'Organel', 'HO', 'Hidrogen', 'Salah', 'Peroksisom', 'Sementara', 'SitoskeletonSitoskeleton', 'Artikel', 'SitoskeletonSitoskeleton', 'Protein', 'Mikrotubulus', 'Silia', 'Filamen', 'Sementara', 'Sejumlah', 'Secara', 'Kinesin', 'Komponen', 'Artikel', 'Matriks', 'Sambungan', 'Selsel', 'Terutama', 'Matriks', 'Matriks', 'Serat', 'Variasi', 'Matriks', 'Dinding', 'Dinding', 'Dinding', 'Dinding', 'Sambungan', 'Sambungan', 'Menurut', 'Sambungan', 'Sementara', 'Terakhir', 'Plasmodesmata', 'FungsiMetabolismeArtikel', 'MetabolismeKeseluruhan', 'Metabolisme', 'Salah', 'ATP', 'Sementara', 'ATP', 'Komunikasi', 'Artikel', 'Pensinyalan', 'Kemampuan', 'Misalnya', 'Komunikasi', 'Mekanisme', 'Selanjutnya', 'Transduksi', 'Selain', 'Siklus', 'Artikel', 'Siklus', 'Video', 'Setiap', 'Pada', 'DNA', 'DNA', 'Pada', 'DNA', 'DNA', 'Hal', 'Pada', 'DNA', 'Siklus', 'Tahap', 'DNA', 'Selanjutnya', 'Peralihan', 'Misalnya', 'Contohnya', 'Jika', 'Diferensiasi', 'Diferensiasi', 'Misalnya', 'Selsel', 'Kematian', 'Artikel', 'ApoptosisSel', 'Kematian', 'Contohnya', 'Dengan', 'Kematian', 'Gejala', 'DNA', 'Kajian', 'Biologi', 'Mikroskop', 'MikroskopiSilia', 'SEM', 'Artikel', 'MikroskopMikroskop', 'Jenis', 'Renaisans', 'Cahaya', 'Namun', 'Pengembangan', 'Selanjutnya', 'Terdapat', 'TEM', 'SEM', 'TEM', 'SEM', 'Fraksinasi', 'Artikel', 'Fraksinasi', 'Fraksinasi', 'Secara', 'Sentrifuge', 'Pemutaran', 'Supernatan']\n"
     ]
    }
   ],
   "source": [
    "kalimatpanjang_aa = \" \".join(df.values[:,0])\n",
    "hasil = re.findall('[A-Z]\\w+',kalimatpanjang_aa)\n",
    "print(len(hasil))\n",
    "print(hasil)"
   ]
  },
  {
   "cell_type": "code",
   "execution_count": 126,
   "metadata": {},
   "outputs": [
    {
     "name": "stdout",
     "output_type": "stream",
     "text": [
      "Halo Orbit apa kabar Sapa Kawan\n"
     ]
    }
   ],
   "source": [
    "text = \"Halo+@ @Orbit, &apa ka&bar? #####Sapa Kaw@an+.\"\n",
    "result = re.sub('[^A-Z a-z]', '', text)\n",
    "print(result)"
   ]
  },
  {
   "cell_type": "code",
   "execution_count": 127,
   "metadata": {},
   "outputs": [
    {
     "name": "stdout",
     "output_type": "stream",
     "text": [
      "Halo Orbit apa kabar Sapa Kawan\n"
     ]
    }
   ],
   "source": [
    "text = \"Halo+@ @Orbit, &apa ka&bar? #####Sapa Kaw@an+.\"\n",
    "result = re.sub(r'[+,&,@,.?#]', '', text)\n",
    "print(result)"
   ]
  },
  {
   "cell_type": "code",
   "execution_count": 128,
   "metadata": {},
   "outputs": [
    {
     "name": "stdout",
     "output_type": "stream",
     "text": [
      "[[0. 0. 0. ... 0. 0. 0.]]\n"
     ]
    }
   ],
   "source": [
    "otak = TfidfVectorizer()\n",
    "otak.fit(df.values[:-1,0])\n",
    "hasil = otak.transform([df.values[-1,0]]).toarray()\n",
    "print(hasil)"
   ]
  },
  {
   "cell_type": "code",
   "execution_count": 131,
   "metadata": {},
   "outputs": [
    {
     "name": "stdout",
     "output_type": "stream",
     "text": [
      "[(0.28533212563975024, 'kecepatan'), (0.28533212563975024, 'kembali'), (0.28533212563975024, 'pelet'), (0.28533212563975024, 'supernatan'), (0.28533212563975024, 'terkumpul')]\n"
     ]
    }
   ],
   "source": [
    "itu = list(zip(hasil[0], otak.get_feature_names()))\n",
    "itu = sorted(itu)\n",
    "print(itu[-5:])"
   ]
  }
 ],
 "metadata": {
  "kernelspec": {
   "display_name": "Python 3.10.6 ('python')",
   "language": "python",
   "name": "python3"
  },
  "language_info": {
   "codemirror_mode": {
    "name": "ipython",
    "version": 3
   },
   "file_extension": ".py",
   "mimetype": "text/x-python",
   "name": "python",
   "nbconvert_exporter": "python",
   "pygments_lexer": "ipython3",
   "version": "3.10.6"
  },
  "orig_nbformat": 4,
  "vscode": {
   "interpreter": {
    "hash": "45bf7f17dadebdc581538a04e72eec4af353140a24cf5b2bc98c1d568cfdbf7d"
   }
  }
 },
 "nbformat": 4,
 "nbformat_minor": 2
}
