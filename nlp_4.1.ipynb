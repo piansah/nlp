{
  "cells": [
    {
      "cell_type": "markdown",
      "metadata": {
        "id": "JkLdAYFAdqi1"
      },
      "source": [
        "### **Regular Expression**\n",
        "\n",
        ">Library untuk pengenalan dan pengolahan pola pada teks\n",
        "\n",
        "Contoh Implementasi:\n",
        "\n",
        "\n",
        "*   Pola Email\n",
        "*   Pola Nomor Telfon\n",
        "*   Pola url\n",
        "*   Pola Nomor plat kendaraan\n",
        "*   Menghilangkan karakter Khusus pada tekt\n",
        "*   Dll\n",
        "\n",
        "**Contoh Syntax dan Aturan-aturan pada class Regex**\n",
        "\n",
        "---\n",
        "Kelas Karakter\n",
        "---\n",
        "\n",
        "*   [ abc] = karakter a ,b atau c (kelas sederhana)\n",
        "*   [^abc] = kecuali karakter a ,b ,atau (negasi)\n",
        "*   [a-zA-Z] = karakter a sampai z huruf kecil , atau A sampai Z huruf besar ,(jarak)\n",
        "*   [a-z[x-y]] = karakter a sampai d ,atau m sampai p (a-xy-z : gabungan)\n",
        "*   [a-z0-9] = karakter a sampai z ,atau angka dari 0 sampai 9\n",
        "*   [a-z&&[^bc] = karakter a sampi z, kecuali untuk b dan c.\n",
        "\n",
        "---\n",
        "Meta Karakter\n",
        "---\n",
        "*   . = tanda titik ,yang berarti karakter apa saja\n",
        "*   \\d = angka digit apa saja:, seperti [0-9]\n",
        "*   \\D = selain angka digit : [^0-9]\n",
        "*   \\s = sebuah spasi pada karakter, seperti [ \\t\\n\\x0B\\f\\r]\n",
        "*   \\S = selain spasi pada karakter: [^\\s]\n",
        "*   \\w = huruf dan angka apa saja ,seperti [a-zA-Z_0-9]\n",
        "*   \\W = selain angka dan huruf ,[\\w]\n",
        "\n",
        "---\n",
        "Batasan Kecocokan Karakter\n",
        "---\n",
        "*   ^ = tanda awalan\n",
        "*   $ = tanda akhiran\n",
        "*   \\b = batasan kecocokan kata\n",
        "*   \\B = batasan kecocokan selain kata\n",
        "*   \\A = awalan untuk input text\n",
        "*   \\G = akhir dari kecocokan sebelumnya\n",
        "*   \\Z = akhir dari input text, kecuali final terminator jika ada\n",
        "*   \\z = akhir dari input text\n",
        "\n",
        "\n"
      ]
    },
    {
      "cell_type": "markdown",
      "metadata": {
        "id": "plNUeSdid1Kq"
      },
      "source": []
    },
    {
      "cell_type": "code",
      "execution_count": 43,
      "metadata": {
        "id": "d3ATw5Und1Wh"
      },
      "outputs": [],
      "source": [
        "# Import library Regex(re)\n",
        "import re\n",
        "\n",
        "# Pola email\n",
        "email_pattern = re.compile(r'[\\w._%+-]+@[\\w\\.-]+\\.[a-zA-Z]{2,4}')\n",
        "txt = 'Contact kami di admin@thenextyunikorn.id, sales@yunikornbaru.com, helo@unikornheya.com, atau hrd@yunikornindo.id'"
      ]
    },
    {
      "cell_type": "code",
      "execution_count": 44,
      "metadata": {
        "colab": {
          "base_uri": "https://localhost:8080/",
          "height": 53
        },
        "id": "VARyYXamnXdC",
        "outputId": "66a098c6-59a3-44aa-d16d-d30dfe104e19"
      },
      "outputs": [
        {
          "data": {
            "application/vnd.google.colaboratory.intrinsic+json": {
              "type": "string"
            },
            "text/plain": [
              "'Contact kami di admin@thenextyunikorn.id, sales@yunikornbaru.com, helo@unikornheya.com, atau hrd@yunikornindo.id'"
            ]
          },
          "execution_count": 44,
          "metadata": {},
          "output_type": "execute_result"
        }
      ],
      "source": [
        "txt"
      ]
    },
    {
      "cell_type": "markdown",
      "metadata": {
        "id": "kpSLJuRml7PE"
      },
      "source": [
        "### Pola Email"
      ]
    },
    {
      "cell_type": "code",
      "execution_count": 20,
      "metadata": {
        "colab": {
          "base_uri": "https://localhost:8080/"
        },
        "id": "lXVaVBVWfvn7",
        "outputId": "33bd43a8-be7c-471a-c169-365f14d50167"
      },
      "outputs": [
        {
          "name": "stdout",
          "output_type": "stream",
          "text": [
            "Contact kami di  ,  ,  , atau  \n"
          ]
        }
      ],
      "source": [
        "print( re.sub(email_pattern, ' ',txt))"
      ]
    },
    {
      "cell_type": "code",
      "execution_count": 21,
      "metadata": {
        "colab": {
          "base_uri": "https://localhost:8080/"
        },
        "id": "DAZfvTdwf3MD",
        "outputId": "9c5319a9-a571-4e5c-dca1-7c56d3b218ff"
      },
      "outputs": [
        {
          "name": "stdout",
          "output_type": "stream",
          "text": [
            "Email yang ditemukan:  ['admin@thenextyunikorn.id', 'sales@yunikornbaru.com', 'helo@unikornheya.com', 'hrd@yunikornindo.id']\n"
          ]
        }
      ],
      "source": [
        "emails = re.findall(email_pattern, txt)\n",
        "print( 'Email yang ditemukan: ', emails)"
      ]
    },
    {
      "cell_type": "code",
      "execution_count": 24,
      "metadata": {
        "id": "IZLpB-naf6qP"
      },
      "outputs": [],
      "source": [
        "phone_pattern = re.compile(r'(\\d{3}[-\\.\\s]??\\d{3}[-\\.\\s]??\\d{4,6}|\\(\\d{3}\\)\\s*\\d{3}[-\\.\\s]??\\d{4,6}|\\d{3,4}[-\\.\\s]??\\d{4,6})')\n",
        "txt = 'Contact kami di 021-7632456 atau 021-443-4162 atau 021 797 4524 atau 0822959020 atau +628199258643'"
      ]
    },
    {
      "cell_type": "code",
      "execution_count": 26,
      "metadata": {
        "colab": {
          "base_uri": "https://localhost:8080/"
        },
        "id": "1i7XApqsi4vQ",
        "outputId": "d6aa6788-e24a-43d8-ca27-058417ca1d83"
      },
      "outputs": [
        {
          "name": "stdout",
          "output_type": "stream",
          "text": [
            "Contact kami di ********* atau ********* atau ********* atau ********* atau +*********\n"
          ]
        }
      ],
      "source": [
        "# Sensor *** untuk pola Nomor Telepon\n",
        "print(re.sub(phone_pattern,'*********',txt))"
      ]
    },
    {
      "cell_type": "code",
      "execution_count": 27,
      "metadata": {
        "colab": {
          "base_uri": "https://localhost:8080/"
        },
        "id": "KkaMfYR3jDWs",
        "outputId": "f0082f85-a7f2-4bdf-d2a7-ccebe2db4504"
      },
      "outputs": [
        {
          "name": "stdout",
          "output_type": "stream",
          "text": [
            "Nomer telephone yang ditemukan:  ['021-7632456', '021-443-4162', '021 797 4524', '0822959020', '628199258643']\n"
          ]
        }
      ],
      "source": [
        "# Mengambil nomor telepon dari teks berdasarkan pola regex yang telah ditentukan\n",
        "phone_numbers = re.findall(phone_pattern,txt)\n",
        "print('Nomer telephone yang ditemukan: ', phone_numbers)"
      ]
    },
    {
      "cell_type": "code",
      "execution_count": 31,
      "metadata": {
        "colab": {
          "base_uri": "https://localhost:8080/",
          "height": 70
        },
        "id": "uyTDpuJ1j46C",
        "outputId": "366e1b68-02fc-4ef0-a486-8d742e0859e3"
      },
      "outputs": [
        {
          "data": {
            "application/vnd.google.colaboratory.intrinsic+json": {
              "type": "string"
            },
            "text/plain": [
              "'Teman teman dapat mengunjungi link berikut untuk sumber belajar: https://www.regular-expressions.info/ atau https://www.towardsdatascience.com atau https://wikipedia.org'"
            ]
          },
          "execution_count": 31,
          "metadata": {},
          "output_type": "execute_result"
        }
      ],
      "source": [
        "# Website URL http(s)\n",
        "url_pattern = re.compile(r'www|http:|https:+[^\\s]+[\\w]')\n",
        "txt = 'Teman teman dapat mengunjungi link berikut untuk sumber belajar: https://www.regular-expressions.info/ atau https://www.towardsdatascience.com atau https://wikipedia.org'\n",
        "txt"
      ]
    },
    {
      "cell_type": "code",
      "execution_count": 30,
      "metadata": {
        "colab": {
          "base_uri": "https://localhost:8080/"
        },
        "id": "Wn7eVcs2j5nH",
        "outputId": "8921bc40-3433-4fcc-f4de-8d4ae27e2724"
      },
      "outputs": [
        {
          "name": "stdout",
          "output_type": "stream",
          "text": [
            "Teman teman dapat mengunjungi link berikut untuk sumber belajar:  / atau   atau  \n"
          ]
        }
      ],
      "source": [
        "# Menghapus url pada teks\n",
        "print(re.sub(url_pattern,' ',txt))"
      ]
    },
    {
      "cell_type": "code",
      "execution_count": 32,
      "metadata": {
        "colab": {
          "base_uri": "https://localhost:8080/"
        },
        "id": "D30r8vh_kFYD",
        "outputId": "de2a8e91-a681-4ae6-ce69-cbe25edaea40"
      },
      "outputs": [
        {
          "name": "stdout",
          "output_type": "stream",
          "text": [
            "URL yang ditemukan:  ['https://www.regular-expressions.info', 'https://www.towardsdatascience.com', 'https://wikipedia.org']\n"
          ]
        }
      ],
      "source": [
        "# Mengambil url dari teks berdasarkan pola regex yang telah ditentukan\n",
        "urls = re.findall(url_pattern,txt)# get urls\n",
        "print('URL yang ditemukan: ',str(urls))"
      ]
    },
    {
      "cell_type": "markdown",
      "metadata": {
        "id": "3lwdihaflgP2"
      },
      "source": [
        "### Pola Plat Kendaraan Bermotor"
      ]
    },
    {
      "cell_type": "code",
      "execution_count": 38,
      "metadata": {
        "id": "m1y2RY0skH0O"
      },
      "outputs": [],
      "source": [
        "plat_pattern = re.compile(r'[A-Z]{1,2}\\s\\d{1,4}\\s[A-Z]{1,3}')\n",
        "text = \"Mr.X punya 2 motor dan 1 mobil. Adapun plat nomornya yaitu B 234 AA, C 3244 YGS, dan D 3 S.\"\n",
        "text1 = 'huwa la humba plat nomor = '"
      ]
    },
    {
      "cell_type": "code",
      "execution_count": 40,
      "metadata": {
        "colab": {
          "base_uri": "https://localhost:8080/"
        },
        "id": "yKIjI8bPjsT5",
        "outputId": "899158aa-9550-4c2b-a026-b4656ab6d4ca"
      },
      "outputs": [
        {
          "name": "stdout",
          "output_type": "stream",
          "text": [
            "Mr.X punya 2 motor dan 1 mobil. Adapun plat nomornya yaitu *sensor*, *sensor*, dan *sensor*.\n"
          ]
        }
      ],
      "source": [
        "# Menghapus plat kendaraan pada teks\n",
        "print(re.sub(plat_pattern, '*sensor*', text))"
      ]
    },
    {
      "cell_type": "code",
      "execution_count": 41,
      "metadata": {
        "colab": {
          "base_uri": "https://localhost:8080/"
        },
        "id": "g2uNy2crj1ZM",
        "outputId": "79961137-95f9-4ebc-aa28-3d075f0aee7e"
      },
      "outputs": [
        {
          "name": "stdout",
          "output_type": "stream",
          "text": [
            "huwa la humba plat nomor =  ['B 234 AA', 'C 3244 YGS', 'D 3 S']\n"
          ]
        }
      ],
      "source": [
        "kumpulan_plat_kendaraan = re.findall(plat_pattern, text)\n",
        "print(f'{text1} {kumpulan_plat_kendaraan}')"
      ]
    },
    {
      "cell_type": "markdown",
      "metadata": {
        "id": "sfw9sFaRmdTc"
      },
      "source": [
        "### Menghilangkan Karakter Khusus"
      ]
    },
    {
      "cell_type": "code",
      "execution_count": 42,
      "metadata": {
        "colab": {
          "base_uri": "https://localhost:8080/"
        },
        "id": "lP66u7talK1e",
        "outputId": "a0a75f9a-3a36-4124-ddfc-df2507ce6f28"
      },
      "outputs": [
        {
          "name": "stdout",
          "output_type": "stream",
          "text": [
            "Halo Orbit apa kabar SapaKawan\n"
          ]
        }
      ],
      "source": [
        "text = \"Halo+@ @Orbit, &apa ka&bar? #####SapaKaw@an+.\"\n",
        "result = re.sub(r'[+,&,@,.?#]', '', text)\n",
        "print(result)"
      ]
    },
    {
      "cell_type": "markdown",
      "metadata": {},
      "source": [
        "### LATIHAN"
      ]
    },
    {
      "cell_type": "code",
      "execution_count": 24,
      "metadata": {},
      "outputs": [
        {
          "data": {
            "text/plain": [
              "['Babi adalah sejenis hewan ungulata yang bermoncong panjang dan berhidung lemper dan merupakan hewan yang aslinya berasal dari Eurasia. Babi merupakan omnivora yang berarti mereka mengonsumsi daging maupun tumbuh-tumbuhan. Selain itu, babi termasuk salah satu mamalia yang paling cerdas, dan dilaporkan lebih pintar dan mudah dipelihara dibandingkan dengan anjing dan kucing.']"
            ]
          },
          "execution_count": 24,
          "metadata": {},
          "output_type": "execute_result"
        }
      ],
      "source": [
        "import re\n",
        "kata = 'Babi adalah sejenis hewan ungulata yang bermoncong panjang dan berhidung lemper dan merupakan hewan yang aslinya berasal dari Eurasia. Babi merupakan omnivora yang berarti mereka mengonsumsi daging maupun tumbuh-tumbuhan. Selain itu, babi termasuk salah satu mamalia yang paling cerdas, dan dilaporkan lebih pintar dan mudah dipelihara dibandingkan dengan anjing dan kucing.'\n",
        "sub = re.findall(r'[A-Z]\\D+',kata)\n",
        "sub"
      ]
    },
    {
      "cell_type": "markdown",
      "metadata": {
        "id": "a2lE28P9lM7B"
      },
      "source": [
        "## Self-Activity\n",
        "**TEXT:**\n",
        "> Halo semua, namaku Andy Joe. Kemarin smartphoneku mendapat SMS tagihan Pinjaman Online dari nomor 08004398499. Selain itu emailku juga mendapatkan pesan serupa dari debtcollector@pinjolninuninu.com. Ternyata salah satu temanku menjadikan nomor telepon dan emailku sebagai penanggungjawab pinjaman onlinenya :(. Tak lama sosok pria berbadan bongsor datang ke rumahku dengan menggunakan mogenya. Ia menanyakan keberadaan temanku yang meminjam uang di perusahaan Pinjol tersebut. Aku yang tak tahu keberadaannya pun menjawab apa adanya. Tak lama kemudian pria tersebut pergi dan segera kuambil gambar mogenya dengan  plat PO 3030 AY. Setelah itu aku menghubungi temanku dan meminta penjelasan kepadanya.\n",
        ">\n",
        "---\n",
        "### Buatlah format pesan kepada teman Andy Joe untuk meminta penjelasan terkait dengan situasi yang sedang terjadi. (ganti teks yang cetak miring dan tebal menjadi nomor debtcollector, email debtcollector dan plat nomor)\n",
        ">\n",
        "\n",
        "**Format Pesan:**\n",
        "> \"*Halo xxxxx, Aku tadi habis didatangi debtcollector. Dia mengirimiku pesan lewat nomornya yaitu **nomor_debtcollector** dan email **email_debtcollector**. Dia bilang kamu jadiin nomorku dan emailku sebagai penanggungjawab. Bisa tolong jelasin? Terus aku tadi juga sempet foto motor yg dipake mas debtcollector. Plat nomornya **plat_nomor_debtcollector**.*\""
      ]
    }
  ],
  "metadata": {
    "colab": {
      "collapsed_sections": [],
      "provenance": []
    },
    "kernelspec": {
      "display_name": "Python 3.10.6 ('python')",
      "language": "python",
      "name": "python3"
    },
    "language_info": {
      "codemirror_mode": {
        "name": "ipython",
        "version": 3
      },
      "file_extension": ".py",
      "mimetype": "text/x-python",
      "name": "python",
      "nbconvert_exporter": "python",
      "pygments_lexer": "ipython3",
      "version": "3.10.6"
    },
    "vscode": {
      "interpreter": {
        "hash": "45bf7f17dadebdc581538a04e72eec4af353140a24cf5b2bc98c1d568cfdbf7d"
      }
    }
  },
  "nbformat": 4,
  "nbformat_minor": 0
}
