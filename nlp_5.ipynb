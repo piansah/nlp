{
 "cells": [
  {
   "cell_type": "code",
   "execution_count": 1,
   "metadata": {},
   "outputs": [],
   "source": [
    "import pandas as pd\n",
    "import numpy as np\n",
    "import re\n",
    "import seaborn as sns\n",
    "import matplotlib.pyplot as plt\n",
    "from scipy import stats\n",
    "from sklearn.svm import LinearSVC\n",
    "from sklearn.metrics import accuracy_score\n",
    "from sklearn.feature_extraction.text import TfidfVectorizer\n",
    "\n"
   ]
  },
  {
   "cell_type": "code",
   "execution_count": 5,
   "metadata": {},
   "outputs": [
    {
     "data": {
      "text/html": [
       "<div>\n",
       "<style scoped>\n",
       "    .dataframe tbody tr th:only-of-type {\n",
       "        vertical-align: middle;\n",
       "    }\n",
       "\n",
       "    .dataframe tbody tr th {\n",
       "        vertical-align: top;\n",
       "    }\n",
       "\n",
       "    .dataframe thead th {\n",
       "        text-align: right;\n",
       "    }\n",
       "</style>\n",
       "<table border=\"1\" class=\"dataframe\">\n",
       "  <thead>\n",
       "    <tr style=\"text-align: right;\">\n",
       "      <th></th>\n",
       "      <th>kalimat</th>\n",
       "      <th>status</th>\n",
       "    </tr>\n",
       "  </thead>\n",
       "  <tbody>\n",
       "    <tr>\n",
       "      <th>0</th>\n",
       "      <td>eh ihh uhh ehh uhh ohh eeh uhhh oooh uuh ahhh ...</td>\n",
       "      <td>0</td>\n",
       "    </tr>\n",
       "    <tr>\n",
       "      <th>1</th>\n",
       "      <td>iiih aah uhh ohhh eh aaah ehh ehh uuuh ihh ihh...</td>\n",
       "      <td>2</td>\n",
       "    </tr>\n",
       "    <tr>\n",
       "      <th>2</th>\n",
       "      <td>ooh uhhh aah ah ah iiih ohh oooh</td>\n",
       "      <td>1</td>\n",
       "    </tr>\n",
       "    <tr>\n",
       "      <th>3</th>\n",
       "      <td>ohh ahh ahhh aah oooh ihhh oooh ohhh oooh ohhh...</td>\n",
       "      <td>0</td>\n",
       "    </tr>\n",
       "    <tr>\n",
       "      <th>4</th>\n",
       "      <td>aah ih ehhh eeh ahh</td>\n",
       "      <td>2</td>\n",
       "    </tr>\n",
       "    <tr>\n",
       "      <th>...</th>\n",
       "      <td>...</td>\n",
       "      <td>...</td>\n",
       "    </tr>\n",
       "    <tr>\n",
       "      <th>4995</th>\n",
       "      <td>uhhh ooh uhhh uuuh uh uhh</td>\n",
       "      <td>0</td>\n",
       "    </tr>\n",
       "    <tr>\n",
       "      <th>4996</th>\n",
       "      <td>eh ohhh aaah uh uuuh uh eh</td>\n",
       "      <td>0</td>\n",
       "    </tr>\n",
       "    <tr>\n",
       "      <th>4997</th>\n",
       "      <td>ih uhhh ahh ihh ohh ihhh aah ihh uuuh ih uhh i...</td>\n",
       "      <td>2</td>\n",
       "    </tr>\n",
       "    <tr>\n",
       "      <th>4998</th>\n",
       "      <td>eeh ahhh iih ooh uhhh eeh uh ohh eeh eeh uuuh ...</td>\n",
       "      <td>0</td>\n",
       "    </tr>\n",
       "    <tr>\n",
       "      <th>4999</th>\n",
       "      <td>ehh ohh iih ooh ehh uuh oooh oh</td>\n",
       "      <td>0</td>\n",
       "    </tr>\n",
       "  </tbody>\n",
       "</table>\n",
       "<p>5000 rows × 2 columns</p>\n",
       "</div>"
      ],
      "text/plain": [
       "                                                kalimat  status\n",
       "0     eh ihh uhh ehh uhh ohh eeh uhhh oooh uuh ahhh ...       0\n",
       "1     iiih aah uhh ohhh eh aaah ehh ehh uuuh ihh ihh...       2\n",
       "2                      ooh uhhh aah ah ah iiih ohh oooh       1\n",
       "3     ohh ahh ahhh aah oooh ihhh oooh ohhh oooh ohhh...       0\n",
       "4                                   aah ih ehhh eeh ahh       2\n",
       "...                                                 ...     ...\n",
       "4995                          uhhh ooh uhhh uuuh uh uhh       0\n",
       "4996                         eh ohhh aaah uh uuuh uh eh       0\n",
       "4997  ih uhhh ahh ihh ohh ihhh aah ihh uuuh ih uhh i...       2\n",
       "4998  eeh ahhh iih ooh uhhh eeh uh ohh eeh eeh uuuh ...       0\n",
       "4999                    ehh ohh iih ooh ehh uuh oooh oh       0\n",
       "\n",
       "[5000 rows x 2 columns]"
      ]
     },
     "execution_count": 5,
     "metadata": {},
     "output_type": "execute_result"
    }
   ],
   "source": [
    "df = pd.read_csv('sentimen_kalimat.csv')\n",
    "df\n"
   ]
  },
  {
   "cell_type": "code",
   "execution_count": 6,
   "metadata": {},
   "outputs": [],
   "source": [
    "x = df.values[:,0]\n",
    "y = df.values[:,1].astype(int)"
   ]
  },
  {
   "cell_type": "code",
   "execution_count": 7,
   "metadata": {},
   "outputs": [],
   "source": [
    "otak = TfidfVectorizer()\n",
    "otak.fit(x)\n",
    "x = otak.transform(x).toarray()"
   ]
  },
  {
   "cell_type": "code",
   "execution_count": 8,
   "metadata": {},
   "outputs": [],
   "source": [
    "batas = df.values.shape[0] * 8//10\n",
    "x_train = x[ : batas]\n",
    "y_train = y[ : batas]\n",
    "x_test = x[batas : ]\n",
    "y_test = y[batas : ]"
   ]
  },
  {
   "cell_type": "code",
   "execution_count": 9,
   "metadata": {},
   "outputs": [
    {
     "name": "stdout",
     "output_type": "stream",
     "text": [
      "(4000, 25)\n",
      "(4000,)\n",
      "(1000, 25)\n",
      "(1000,)\n"
     ]
    }
   ],
   "source": [
    "print(x_train.shape)\n",
    "print(y_train.shape)\n",
    "print(x_test.shape)\n",
    "print(y_test.shape)"
   ]
  },
  {
   "cell_type": "code",
   "execution_count": 10,
   "metadata": {},
   "outputs": [
    {
     "name": "stdout",
     "output_type": "stream",
     "text": [
      "[[0.         0.32295303 0.163146   ... 0.16271609 0.16209427 0.        ]\n",
      " [0.12977961 0.39221829 0.         ... 0.13174305 0.         0.26104328]\n",
      " [0.         0.31380187 0.63409243 ... 0.31621078 0.         0.        ]\n",
      " ...\n",
      " [0.49282453 0.         0.25080113 ... 0.25014025 0.12459216 0.12391058]\n",
      " [0.         0.14844028 0.44992494 ... 0.         0.14900816 0.148193  ]\n",
      " [0.         0.34615994 0.         ... 0.         0.17374211 0.        ]]\n",
      "[0 2 1 ... 0 0 2]\n"
     ]
    }
   ],
   "source": [
    "print(x_train)\n",
    "print(y_train)"
   ]
  },
  {
   "cell_type": "code",
   "execution_count": 11,
   "metadata": {},
   "outputs": [
    {
     "data": {
      "text/html": [
       "<style>#sk-container-id-1 {color: black;background-color: white;}#sk-container-id-1 pre{padding: 0;}#sk-container-id-1 div.sk-toggleable {background-color: white;}#sk-container-id-1 label.sk-toggleable__label {cursor: pointer;display: block;width: 100%;margin-bottom: 0;padding: 0.3em;box-sizing: border-box;text-align: center;}#sk-container-id-1 label.sk-toggleable__label-arrow:before {content: \"▸\";float: left;margin-right: 0.25em;color: #696969;}#sk-container-id-1 label.sk-toggleable__label-arrow:hover:before {color: black;}#sk-container-id-1 div.sk-estimator:hover label.sk-toggleable__label-arrow:before {color: black;}#sk-container-id-1 div.sk-toggleable__content {max-height: 0;max-width: 0;overflow: hidden;text-align: left;background-color: #f0f8ff;}#sk-container-id-1 div.sk-toggleable__content pre {margin: 0.2em;color: black;border-radius: 0.25em;background-color: #f0f8ff;}#sk-container-id-1 input.sk-toggleable__control:checked~div.sk-toggleable__content {max-height: 200px;max-width: 100%;overflow: auto;}#sk-container-id-1 input.sk-toggleable__control:checked~label.sk-toggleable__label-arrow:before {content: \"▾\";}#sk-container-id-1 div.sk-estimator input.sk-toggleable__control:checked~label.sk-toggleable__label {background-color: #d4ebff;}#sk-container-id-1 div.sk-label input.sk-toggleable__control:checked~label.sk-toggleable__label {background-color: #d4ebff;}#sk-container-id-1 input.sk-hidden--visually {border: 0;clip: rect(1px 1px 1px 1px);clip: rect(1px, 1px, 1px, 1px);height: 1px;margin: -1px;overflow: hidden;padding: 0;position: absolute;width: 1px;}#sk-container-id-1 div.sk-estimator {font-family: monospace;background-color: #f0f8ff;border: 1px dotted black;border-radius: 0.25em;box-sizing: border-box;margin-bottom: 0.5em;}#sk-container-id-1 div.sk-estimator:hover {background-color: #d4ebff;}#sk-container-id-1 div.sk-parallel-item::after {content: \"\";width: 100%;border-bottom: 1px solid gray;flex-grow: 1;}#sk-container-id-1 div.sk-label:hover label.sk-toggleable__label {background-color: #d4ebff;}#sk-container-id-1 div.sk-serial::before {content: \"\";position: absolute;border-left: 1px solid gray;box-sizing: border-box;top: 0;bottom: 0;left: 50%;z-index: 0;}#sk-container-id-1 div.sk-serial {display: flex;flex-direction: column;align-items: center;background-color: white;padding-right: 0.2em;padding-left: 0.2em;position: relative;}#sk-container-id-1 div.sk-item {position: relative;z-index: 1;}#sk-container-id-1 div.sk-parallel {display: flex;align-items: stretch;justify-content: center;background-color: white;position: relative;}#sk-container-id-1 div.sk-item::before, #sk-container-id-1 div.sk-parallel-item::before {content: \"\";position: absolute;border-left: 1px solid gray;box-sizing: border-box;top: 0;bottom: 0;left: 50%;z-index: -1;}#sk-container-id-1 div.sk-parallel-item {display: flex;flex-direction: column;z-index: 1;position: relative;background-color: white;}#sk-container-id-1 div.sk-parallel-item:first-child::after {align-self: flex-end;width: 50%;}#sk-container-id-1 div.sk-parallel-item:last-child::after {align-self: flex-start;width: 50%;}#sk-container-id-1 div.sk-parallel-item:only-child::after {width: 0;}#sk-container-id-1 div.sk-dashed-wrapped {border: 1px dashed gray;margin: 0 0.4em 0.5em 0.4em;box-sizing: border-box;padding-bottom: 0.4em;background-color: white;}#sk-container-id-1 div.sk-label label {font-family: monospace;font-weight: bold;display: inline-block;line-height: 1.2em;}#sk-container-id-1 div.sk-label-container {text-align: center;}#sk-container-id-1 div.sk-container {/* jupyter's `normalize.less` sets `[hidden] { display: none; }` but bootstrap.min.css set `[hidden] { display: none !important; }` so we also need the `!important` here to be able to override the default hidden behavior on the sphinx rendered scikit-learn.org. See: https://github.com/scikit-learn/scikit-learn/issues/21755 */display: inline-block !important;position: relative;}#sk-container-id-1 div.sk-text-repr-fallback {display: none;}</style><div id=\"sk-container-id-1\" class=\"sk-top-container\"><div class=\"sk-text-repr-fallback\"><pre>ExtraTreesClassifier()</pre><b>In a Jupyter environment, please rerun this cell to show the HTML representation or trust the notebook. <br />On GitHub, the HTML representation is unable to render, please try loading this page with nbviewer.org.</b></div><div class=\"sk-container\" hidden><div class=\"sk-item\"><div class=\"sk-estimator sk-toggleable\"><input class=\"sk-toggleable__control sk-hidden--visually\" id=\"sk-estimator-id-1\" type=\"checkbox\" checked><label for=\"sk-estimator-id-1\" class=\"sk-toggleable__label sk-toggleable__label-arrow\">ExtraTreesClassifier</label><div class=\"sk-toggleable__content\"><pre>ExtraTreesClassifier()</pre></div></div></div></div></div>"
      ],
      "text/plain": [
       "ExtraTreesClassifier()"
      ]
     },
     "execution_count": 11,
     "metadata": {},
     "output_type": "execute_result"
    }
   ],
   "source": [
    "from sklearn.ensemble import ExtraTreesClassifier\n",
    "etc = ExtraTreesClassifier()\n",
    "etc.fit(x_train, y_train)"
   ]
  },
  {
   "cell_type": "code",
   "execution_count": 98,
   "metadata": {},
   "outputs": [
    {
     "name": "stdout",
     "output_type": "stream",
     "text": [
      "akurasi =  0.016922155922437815\n"
     ]
    }
   ],
   "source": [
    "from sklearn.metrics import silhouette_score\n",
    "score = silhouette_score(x_train, y_train_pred)\n",
    "print(\"akurasi = \",score)"
   ]
  },
  {
   "cell_type": "code",
   "execution_count": 99,
   "metadata": {},
   "outputs": [],
   "source": [
    "df = df.values[:,0]\n",
    "df = [_.split() for _ in df]"
   ]
  },
  {
   "cell_type": "code",
   "execution_count": 104,
   "metadata": {},
   "outputs": [
    {
     "name": "stdout",
     "output_type": "stream",
     "text": [
      "[-0.02470556  0.1477152   0.14141728  0.10763969 -0.0107321  -0.11465689\n",
      "  0.09924944  0.2705811  -0.13803966 -0.25375327  0.03620116 -0.18048006\n",
      "  0.07606372  0.06595987  0.12262124 -0.00775258  0.20601258  0.02557022\n",
      " -0.04768884 -0.33631778  0.07098029  0.04608604  0.09137752 -0.02113618\n",
      " -0.1699178   0.16245963 -0.14641564  0.03316449  0.05158402  0.01291499\n",
      "  0.1721126  -0.1292591  -0.0161036  -0.1196059  -0.07227106  0.09840617\n",
      "  0.12679237 -0.00120505 -0.18031916  0.01147303  0.22911757 -0.08932149\n",
      " -0.00803185  0.1609892   0.07956515 -0.12608875 -0.14849462 -0.20892395\n",
      "  0.06258558  0.02067215  0.11967237 -0.1292959  -0.04720788 -0.02829929\n",
      " -0.14432487  0.07894487  0.10612488 -0.00260698  0.08580537 -0.03152208\n",
      " -0.08419611 -0.03436856  0.25326514  0.12770084 -0.09065917  0.27892005\n",
      " -0.026576    0.12699814 -0.12691759  0.0200493   0.00801865  0.16025971\n",
      "  0.09019582  0.08032432  0.15583788  0.07905493  0.16533661  0.15974703\n",
      " -0.03997704 -0.01951287 -0.26919317 -0.04552431  0.04038478  0.08735829\n",
      " -0.0354164  -0.01493119  0.13422137 -0.02881246  0.02728901  0.04648633\n",
      "  0.13358468  0.01804951 -0.00768824  0.04936303  0.17922707 -0.02561351\n",
      "  0.17841217  0.01076541  0.05309996  0.12741497]\n",
      "[-3.70956995e-02  1.50809243e-01  1.52237117e-01  9.02872980e-02\n",
      " -2.69811209e-02 -1.24195062e-01  1.11610413e-01  2.79559851e-01\n",
      " -1.40242547e-01 -2.59754002e-01  4.59390469e-02 -1.69562027e-01\n",
      "  6.98419660e-02  5.84526993e-02  1.07831337e-01 -1.70771237e-02\n",
      "  2.25967497e-01  3.31945419e-02 -6.94207996e-02 -3.39501262e-01\n",
      "  5.08483239e-02  3.06931380e-02  9.28995758e-02 -2.62940619e-02\n",
      " -1.89188287e-01  1.47344857e-01 -1.39478415e-01  2.99465507e-02\n",
      "  5.37632741e-02  9.55032650e-03  1.95829824e-01 -1.27116337e-01\n",
      " -1.21797929e-02 -1.15487583e-01 -6.76149055e-02  7.66222551e-02\n",
      "  1.37934685e-01 -1.35587938e-02 -1.57250330e-01  1.74860675e-02\n",
      "  2.28274301e-01 -9.14197117e-02  1.39900083e-02  1.51670530e-01\n",
      "  8.90511274e-02 -1.33540124e-01 -1.30356938e-01 -2.10104823e-01\n",
      "  6.70636743e-02  2.03557294e-02  1.33564293e-01 -1.10766061e-01\n",
      " -3.55623290e-02 -3.29757966e-02 -1.50215074e-01  7.82776549e-02\n",
      "  1.31277904e-01  2.57622637e-02  9.53019783e-02 -2.00536232e-02\n",
      " -6.98324516e-02 -3.09856031e-02  2.45074272e-01  1.25131488e-01\n",
      " -9.19085592e-02  2.77764201e-01 -1.90858282e-02  1.17168263e-01\n",
      " -1.32284194e-01  2.68095676e-02  9.19358060e-03  1.46574318e-01\n",
      "  1.06818251e-01  9.09431353e-02  1.68773547e-01  7.80201405e-02\n",
      "  1.74257532e-01  1.76507100e-01 -4.11559939e-02 -1.81891099e-02\n",
      " -2.66129643e-01 -4.01669070e-02  3.46118957e-02  1.04795069e-01\n",
      " -2.62524895e-02 -1.96635015e-02  1.33773655e-01 -2.35883836e-02\n",
      "  2.99911760e-02  5.96213378e-02  1.40330121e-01  4.48136325e-06\n",
      " -3.89116374e-03  3.42669934e-02  1.90640375e-01 -2.99281031e-02\n",
      "  1.99884087e-01  4.04541148e-03  6.18660897e-02  1.08789936e-01]\n"
     ]
    }
   ],
   "source": [
    "from gensim.models import Word2Vec\n",
    "otak = Word2Vec(df)\n",
    "print(otak.wv['ah'])\n",
    "print(otak.wv['ih'])"
   ]
  },
  {
   "cell_type": "code",
   "execution_count": 101,
   "metadata": {},
   "outputs": [
    {
     "name": "stdout",
     "output_type": "stream",
     "text": [
      "Collecting gensim\n",
      "  Downloading gensim-4.2.0-cp310-cp310-win_amd64.whl (23.9 MB)\n",
      "     -------------------------------------- 23.9/23.9 MB 440.0 kB/s eta 0:00:00\n",
      "Requirement already satisfied: numpy>=1.17.0 in c:\\users\\lenovo\\anaconda3\\envs\\python\\lib\\site-packages (from gensim) (1.23.4)\n",
      "Collecting Cython==0.29.28\n",
      "  Downloading Cython-0.29.28-py2.py3-none-any.whl (983 kB)\n",
      "     ------------------------------------ 983.8/983.8 kB 494.4 kB/s eta 0:00:00\n",
      "Collecting smart-open>=1.8.1\n",
      "  Downloading smart_open-6.2.0-py3-none-any.whl (58 kB)\n",
      "     -------------------------------------- 58.6/58.6 kB 612.4 kB/s eta 0:00:00\n",
      "Requirement already satisfied: scipy>=0.18.1 in c:\\users\\lenovo\\anaconda3\\envs\\python\\lib\\site-packages (from gensim) (1.9.3)\n",
      "Installing collected packages: smart-open, Cython, gensim\n",
      "Successfully installed Cython-0.29.28 gensim-4.2.0 smart-open-6.2.0\n"
     ]
    }
   ],
   "source": [
    "!pip install gensim"
   ]
  },
  {
   "cell_type": "code",
   "execution_count": 108,
   "metadata": {},
   "outputs": [
    {
     "data": {
      "text/plain": [
       "[('ohhh', 0.9982208609580994),\n",
       " ('ahh', 0.9981349110603333),\n",
       " ('ohh', 0.9979767203330994),\n",
       " ('eeh', 0.9979012608528137),\n",
       " ('ehhh', 0.997793436050415),\n",
       " ('iih', 0.9976956844329834),\n",
       " ('uhh', 0.9976951479911804),\n",
       " ('eh', 0.9976390600204468),\n",
       " ('ihh', 0.9975813627243042),\n",
       " ('uuh', 0.9975090622901917)]"
      ]
     },
     "execution_count": 108,
     "metadata": {},
     "output_type": "execute_result"
    }
   ],
   "source": [
    "otak.wv.most_similar('ah')"
   ]
  }
 ],
 "metadata": {
  "kernelspec": {
   "display_name": "Python 3.10.6 ('python')",
   "language": "python",
   "name": "python3"
  },
  "language_info": {
   "codemirror_mode": {
    "name": "ipython",
    "version": 3
   },
   "file_extension": ".py",
   "mimetype": "text/x-python",
   "name": "python",
   "nbconvert_exporter": "python",
   "pygments_lexer": "ipython3",
   "version": "3.10.6"
  },
  "orig_nbformat": 4,
  "vscode": {
   "interpreter": {
    "hash": "45bf7f17dadebdc581538a04e72eec4af353140a24cf5b2bc98c1d568cfdbf7d"
   }
  }
 },
 "nbformat": 4,
 "nbformat_minor": 2
}
