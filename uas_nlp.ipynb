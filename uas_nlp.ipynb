{
  "nbformat": 4,
  "nbformat_minor": 0,
  "metadata": {
    "colab": {
      "provenance": []
    },
    "kernelspec": {
      "name": "python3",
      "display_name": "Python 3"
    },
    "language_info": {
      "name": "python"
    }
  },
  "cells": [
    {
      "cell_type": "code",
      "execution_count": 87,
      "metadata": {
        "id": "z7e2qU63bhpS",
        "colab": {
          "base_uri": "https://localhost:8080/"
        },
        "outputId": "374d6cde-f806-4be8-cbe2-7b9dbf23917e"
      },
      "outputs": [
        {
          "output_type": "stream",
          "name": "stdout",
          "text": [
            "Archive:  UAS_NLP.zip\n",
            "replace uas/0.txt? [y]es, [n]o, [A]ll, [N]one, [r]ename: "
          ]
        }
      ],
      "source": [
        "!unzip UAS_NLP.zip"
      ]
    },
    {
      "cell_type": "code",
      "source": [
        "import pandas as pd\n",
        "import numpy as np\n",
        "import matplotlib.pyplot as plt\n",
        "from gensim.models import Word2Vec\n",
        "from sklearn.feature_extraction.text import TfidfVectorizer"
      ],
      "metadata": {
        "id": "LEgKORcFd4SS"
      },
      "execution_count": 127,
      "outputs": []
    },
    {
      "cell_type": "code",
      "source": [
        "read_file = open('/content/uas/107.txt')\n",
        "for line in read_file:\n",
        "    print(line)"
      ],
      "metadata": {
        "colab": {
          "base_uri": "https://localhost:8080/"
        },
        "id": "xUJUU_8webme",
        "outputId": "9b470857-336f-4260-fefc-84bc1a039bdc"
      },
      "execution_count": 128,
      "outputs": [
        {
          "output_type": "stream",
          "name": "stdout",
          "text": [
            "kau biru yang langit menghias \n"
          ]
        }
      ]
    },
    {
      "cell_type": "code",
      "source": [
        "folder_path = '/content/uas'\n",
        "all_sentences = []\n",
        "for filename in os.listdir(folder_path):\n",
        "    file_path = os.path.join(folder_path, filename)\n",
        "    if os.path.isfile(file_path) and file_path.endswith('.txt'):\n",
        "        with open(file_path, 'r') as f:\n",
        "            lines = f.readlines()\n",
        "            for line in lines:\n",
        "                sentences = line.split('.')\n",
        "                all_sentences.extend(sentences)\n",
        "                print (sentences)"
      ],
      "metadata": {
        "colab": {
          "base_uri": "https://localhost:8080/"
        },
        "id": "rGKLdgGX1w5h",
        "outputId": "0f57f58a-36a0-4509-ca03-3b6c16d88098"
      },
      "execution_count": 129,
      "outputs": [
        {
          "output_type": "stream",
          "name": "stdout",
          "text": [
            "['kulihat saja tinggi pohon cemara ke pohon ']\n",
            "['menghias tempat langit ingin terbang ']\n",
            "['queen ku pentol ayam kasar ']\n",
            "['aku aku angkasa berada bintang ']\n",
            "['banyak naik gunung ']\n",
            "['penyemangatku hidupku akulah karena ']\n",
            "['angkasa terbang yang ']\n",
            "['ayam happy sapi ']\n",
            "['sekali sekali naik naik banyak tinggi ']\n",
            "['gampang akulah mengingat kasar aku akulah ']\n",
            "['penyemangatku happy gampang akulah ']\n",
            "['amat tinggi angkasa kecil ']\n",
            "['bikin ayam penyemangatku ']\n",
            "['kanan banyak naik kanan kiri pohon ']\n",
            "['ngguyu ku aku adalah hidupku ']\n",
            "['kuat sapi ayam gampang ']\n",
            "['cemara sekali kulihat naik naik kulihat kanan ']\n",
            "['kasar kuat makan hidupku kuat pentol ']\n",
            "['banyak yang berada angkasa tinggi kau ']\n",
            "['kecil biru kau di ']\n",
            "['berada ingin menghias di ke ']\n",
            "['menari langit dan ingin aku banyak terbang ']\n",
            "['kulihat kanan banyak saja saja kiri ']\n",
            "['berada tinggi terbang dan ']\n",
            "['cemara sekali banyak kanan tinggi ']\n",
            "['adalah queen penyemangatku penyemangatku ayam happy ']\n",
            "['aku tinggi menari ingin di ']\n",
            "['kanan tinggi puncak kanan ']\n",
            "['angkasa angkasa ke ']\n",
            "['queen ku makan sabar bikin ']\n",
            "['terbang tempat terbang biru amat bintang ']\n",
            "['sapi kasar tujuan akulah ku sabar kuat ']\n",
            "['kiri gunung saja kulihat puncak puncak ']\n",
            "['kecil ke kecil kau langit amat ']\n",
            "['tempat jauh bintang dan aku tempat ']\n",
            "['hidupku sabar happy sabar hidupku kuat gampang ']\n",
            "['kanan cemara naik kanan ']\n",
            "['sapi ayam queen hidupku ']\n",
            "['gunung ke saja saja ']\n",
            "['hidupku kuat kuat ']\n",
            "['mengingat aku happy kasar queen puyuh adalah ']\n",
            "['menghias aku aku ']\n",
            "['kiri naik kanan ke saja ']\n",
            "['gunung kanan kulihat ke ']\n",
            "['bintang langit kau berada ']\n",
            "['kecil terbang berada biru bintang di terbang ']\n",
            "['tenteram aku kuat puyuh sabar kuat ']\n",
            "['biru tinggi amat di ']\n",
            "['ingin amat tinggi ']\n",
            "['tenteram akulah kuat akulah kasar tenteram tujuan ']\n",
            "['kau bintang di ']\n",
            "['bintang ke kecil ']\n",
            "['naik ke gunung cemara kulihat sekali ']\n",
            "['karena ayam makan akulah ']\n",
            "['puncak pohon kanan ']\n",
            "['ngguyu aku adalah kuat ']\n",
            "['pentol pentol happy ayam ']\n",
            "['ke tinggi tinggi ']\n",
            "['ke banyak yang ']\n",
            "['bikin queen pentol ']\n",
            "['mengingat tujuan sabar tujuan queen sabar puyuh ']\n",
            "['kulihat sekali kanan naik ']\n",
            "['kiri banyak kulihat puncak tinggi kanan ']\n",
            "['pohon puncak kanan kanan pohon sekali ']\n",
            "['kecil ingin kecil ingin berada ']\n",
            "['penyemangatku bikin ngguyu tujuan akulah tenteram ']\n",
            "['kulihat tinggi ke ']\n",
            "['bikin penyemangatku ku ']\n",
            "['happy ku bikin hidupku ']\n",
            "['aku pentol kuat ']\n",
            "['kiri kulihat cemara sekali kanan ']\n",
            "['mengingat hidupku akulah tujuan ']\n",
            "['penyemangatku akulah aku sapi mengingat ']\n",
            "['berada tinggi di yang biru ke ']\n",
            "['tinggi puncak puncak saja sekali banyak ']\n",
            "['kasar hidupku tenteram penyemangatku kasar ']\n",
            "['kasar tujuan ayam tujuan ayam ']\n",
            "['tinggi menghias jauh ingin di amat ']\n",
            "['aku tinggi amat amat kau ']\n",
            "['bikin mengingat penyemangatku ']\n",
            "['saja tinggi kiri pohon ']\n",
            "['kulihat kulihat naik kulihat puncak puncak gunung ']\n",
            "['adalah ku bikin ']\n",
            "['kulihat pohon kanan naik naik ']\n",
            "['langit banyak jauh langit ']\n",
            "['kau langit menghias bintang menari ke ']\n",
            "['pentol pentol mengingat ngguyu adalah ']\n",
            "['cemara naik tinggi ke banyak banyak ']\n",
            "['mengingat kuat hidupku ngguyu ']\n",
            "['queen kasar sabar hidupku tujuan ']\n",
            "['tinggi naik kanan gunung ']\n",
            "['pohon banyak saja cemara ']\n",
            "['angkasa dan ke jauh bintang ']\n",
            "['kuat aku ku ']\n",
            "['akulah kasar mengingat tujuan tenteram ']\n",
            "['banyak kulihat puncak ']\n",
            "['gunung pohon ke pohon puncak puncak naik ']\n",
            "['kulihat pohon kanan kulihat saja kanan tinggi ']\n",
            "['tinggi kiri gunung kulihat ']\n",
            "['kulihat gunung pohon ke ke kanan sekali ']\n",
            "['aku biru angkasa ']\n",
            "['saja banyak sekali naik ']\n",
            "['menghias bintang kau ']\n",
            "['kau menari amat ingin kau ']\n",
            "['gunung cemara gunung kiri ']\n",
            "['jauh berada ingin di amat ']\n",
            "['yang tempat ke kecil amat ']\n",
            "['banyak amat berada ']\n",
            "['ke cemara naik gunung gunung tinggi sekali ']\n",
            "['kasar aku gampang ']\n",
            "['tenteram queen tujuan gampang ku ']\n",
            "['jauh amat tempat ']\n",
            "['yang terbang tempat kau dan kau ']\n",
            "['kanan ke puncak ']\n",
            "['amat menari bintang langit ']\n",
            "['happy ayam kasar bikin tujuan happy penyemangatku ']\n",
            "['banyak kiri tinggi saja kulihat cemara ']\n",
            "['pentol queen puyuh pentol ']\n",
            "['happy ayam tujuan kuat ayam tujuan ']\n",
            "['cemara cemara sekali cemara puncak ']\n",
            "['jauh ingin terbang tinggi ']\n",
            "['makan tenteram puyuh happy pentol akulah tenteram ']\n",
            "['ke pohon kulihat kulihat naik ']\n",
            "['langit jauh ke biru angkasa ']\n",
            "['langit kau jauh ke tinggi ']\n",
            "['ngguyu akulah tujuan hidupku sapi akulah happy ']\n",
            "['kau ingin kecil ']\n",
            "['berada terbang langit dan langit ']\n",
            "['makan penyemangatku makan penyemangatku ']\n",
            "['gunung kanan gunung puncak gunung gunung gunung ']\n",
            "['gunung puncak kiri pohon kiri gunung banyak ']\n",
            "['happy sabar ngguyu adalah kasar mengingat ']\n",
            "['biru terbang di menghias menghias ']\n",
            "['ke menghias aku yang tempat ']\n",
            "['kasar pentol pentol sabar ']\n",
            "['cemara kanan sekali kiri ']\n",
            "['bintang amat angkasa ingin tempat ']\n",
            "['amat banyak biru jauh aku menghias ingin ']\n",
            "['pohon kanan sekali ']\n",
            "['tinggi pohon kulihat saja kulihat cemara naik ']\n",
            "['banyak bintang dan yang ']\n",
            "['tinggi ingin di ingin tinggi ingin berada ']\n",
            "['tenteram sabar ngguyu tenteram ']\n",
            "['sekali banyak naik kanan pohon ']\n",
            "['cemara puncak banyak naik ']\n",
            "['queen queen hidupku ngguyu ku akulah kuat ']\n",
            "['makan sabar sapi gampang tenteram ngguyu ']\n",
            "['bintang ingin di ingin ']\n",
            "['tenteram happy tujuan akulah sapi ']\n",
            "['naik pohon kiri tinggi tinggi ke kiri ']\n",
            "['ke gunung kulihat ']\n",
            "['karena sabar hidupku bikin hidupku sapi sabar ']\n",
            "['kau biru yang langit menghias ']\n",
            "['berada menari biru jauh aku ']\n",
            "['penyemangatku sabar aku ']\n",
            "['kanan sekali kanan ke sekali ']\n",
            "['banyak kiri banyak saja ']\n",
            "['jauh angkasa amat dan kau ']\n",
            "['tempat angkasa dan yang ']\n",
            "['amat amat angkasa ']\n",
            "['ke biru ke angkasa ingin ']\n",
            "['puncak naik kiri pohon kanan banyak pohon ']\n",
            "['angkasa berada yang ']\n",
            "['cemara saja sekali ']\n",
            "['kanan ke pohon ']\n",
            "['bikin akulah sapi sabar ']\n",
            "['terbang aku yang bintang tempat ']\n",
            "['kulihat gunung saja sekali ']\n",
            "['amat angkasa bintang ']\n",
            "['pohon cemara saja cemara puncak kanan puncak ']\n",
            "['gampang adalah makan happy karena akulah mengingat ']\n",
            "['happy kasar tenteram makan tujuan ']\n",
            "['ke ke gunung banyak saja gunung ']\n",
            "['puncak kanan banyak saja puncak gunung ']\n",
            "['ku gampang pentol ayam penyemangatku tenteram ']\n",
            "['tempat dan angkasa bintang ']\n",
            "['ngguyu queen queen ku ']\n",
            "['jauh tempat di terbang ']\n",
            "['tinggi kanan sekali gunung kulihat tinggi cemara ']\n",
            "['kulihat puncak kulihat naik saja ke ke ']\n",
            "['karena karena happy happy queen ']\n",
            "['saja saja pohon pohon kulihat ']\n",
            "['kiri kanan puncak puncak naik ']\n",
            "['tinggi gunung tinggi kulihat banyak ']\n",
            "['puncak kanan tinggi kulihat ']\n",
            "['jauh aku menghias menari angkasa langit banyak ']\n",
            "['banyak puncak pohon naik gunung ']\n",
            "['puncak puncak kiri pohon banyak cemara kiri ']\n",
            "['ku kuat tujuan aku ']\n",
            "['kecil dan menghias tinggi ']\n",
            "['kecil ke bintang berada ']\n",
            "['kiri kiri ke banyak naik ']\n",
            "['ingin angkasa ke menari banyak ']\n",
            "['tinggi angkasa amat angkasa ']\n",
            "['pohon gunung cemara banyak sekali naik ']\n",
            "['kasar sabar hidupku tenteram ']\n",
            "['tinggi kiri gunung saja saja ']\n",
            "['hidupku pentol hidupku queen ']\n",
            "['banyak kanan saja cemara pohon gunung ']\n",
            "['adalah ku hidupku gampang kuat ']\n",
            "['penyemangatku akulah happy mengingat sabar gampang kasar ']\n",
            "['gunung gunung sekali gunung sekali naik puncak ']\n",
            "['karena kasar ayam adalah kuat aku ']\n",
            "['kanan tinggi naik ']\n",
            "['ke ke naik banyak tinggi kanan kiri ']\n",
            "['kulihat kulihat gunung tinggi pohon ']\n",
            "['langit angkasa di yang angkasa aku aku ']\n",
            "['karena aku bikin adalah ']\n",
            "['dan dan ke ']\n",
            "['tempat banyak ingin dan menari ']\n",
            "['angkasa di banyak ']\n",
            "['happy tujuan aku ayam makan ']\n",
            "['berada yang amat tinggi terbang angkasa ']\n",
            "['queen ngguyu hidupku sapi ']\n",
            "['pentol pentol ayam ']\n",
            "['bikin queen aku tenteram ']\n",
            "['terbang bintang tempat ']\n",
            "['biru menari tempat berada amat terbang di ']\n",
            "['aku tempat ingin yang ']\n",
            "['sabar happy kasar ku happy kuat makan ']\n",
            "['akulah kuat hidupku tenteram makan ']\n",
            "['banyak naik kiri kulihat ke banyak ']\n",
            "['gampang kasar makan makan karena queen ']\n",
            "['jauh tempat di ']\n",
            "['pohon sekali sekali gunung ']\n",
            "['karena aku ngguyu ']\n",
            "['pohon banyak naik kulihat puncak ']\n",
            "['terbang amat yang tempat angkasa ke aku ']\n",
            "['naik puncak kulihat tinggi kanan ']\n",
            "['dan menari amat di langit yang langit ']\n",
            "['langit yang berada ']\n",
            "['langit biru berada biru yang menghias bintang ']\n",
            "['tinggi tinggi kulihat gunung ke ke ']\n",
            "['tenteram happy adalah tujuan ']\n",
            "['kiri puncak saja naik kulihat kiri ']\n",
            "['berada aku berada ingin ']\n",
            "['ku kuat pentol karena puyuh bikin aku ']\n",
            "['tujuan ku tenteram ayam ']\n",
            "['ke berada kecil ']\n",
            "['biru jauh tinggi dan biru ']\n",
            "['banyak bintang tinggi berada dan banyak ']\n",
            "['kanan naik ke sekali puncak pohon ']\n",
            "['pentol bikin adalah puyuh pentol queen gampang ']\n",
            "['jauh dan amat jauh kau ']\n",
            "['tempat tempat yang tempat kau ']\n",
            "['angkasa yang langit ingin aku biru ']\n",
            "['kanan saja kulihat ']\n",
            "['ayam kasar ngguyu akulah ']\n",
            "['tempat menari banyak di ']\n",
            "['sapi sabar happy tujuan bikin sapi pentol ']\n",
            "['kulihat puncak tinggi ']\n",
            "['aku terbang di ']\n",
            "['pohon kanan cemara gunung cemara ']\n",
            "['banyak kiri kulihat puncak kulihat naik tinggi ']\n",
            "['adalah sabar karena mengingat penyemangatku karena makan ']\n",
            "['adalah hidupku ayam akulah ']\n",
            "['berada aku ke tinggi tempat ']\n",
            "['bintang di tinggi tinggi tinggi ']\n",
            "['sabar tujuan mengingat kasar karena bikin mengingat ']\n",
            "['gunung kanan cemara cemara kiri ']\n",
            "['hidupku kasar sapi sabar ']\n",
            "['sapi sabar ku sapi tujuan puyuh akulah ']\n",
            "['cemara puncak puncak kiri ']\n",
            "['ke di menghias banyak ']\n",
            "['penyemangatku bikin akulah makan queen ']\n",
            "['sapi akulah tenteram ']\n",
            "['tempat ingin kecil berada menghias ']\n",
            "['sabar mengingat sapi ngguyu ngguyu ']\n",
            "['sekali saja saja ']\n",
            "['cemara naik pohon banyak kulihat ']\n",
            "['ayam hidupku karena akulah kuat mengingat karena ']\n",
            "['di jauh aku tempat kecil langit ']\n",
            "['tinggi banyak gunung tinggi ke naik ']\n",
            "['kuat sabar aku queen ngguyu ']\n",
            "['biru dan tinggi ']\n",
            "['naik banyak naik ']\n",
            "['pohon saja kiri ']\n",
            "['akulah ayam ku hidupku kasar ']\n",
            "['puyuh makan queen mengingat hidupku karena ']\n",
            "['pohon banyak kanan banyak tinggi ']\n",
            "['queen ayam aku ']\n",
            "['jauh terbang ingin di ingin tinggi menghias ']\n",
            "['makan sabar aku adalah ']\n",
            "['puncak kanan kanan kiri saja ']\n",
            "['di angkasa menari terbang aku ']\n",
            "['tinggi saja ke cemara cemara kulihat puncak ']\n",
            "['kuat queen mengingat kuat ']\n",
            "['jauh langit menari ']\n",
            "['ku queen tujuan mengingat sabar tenteram sabar ']\n",
            "['sabar kasar kuat penyemangatku karena karena kasar ']\n",
            "['queen karena ku puyuh bikin aku ']\n",
            "['menari kecil bintang banyak menghias menghias ']\n",
            "['kanan naik ke banyak gunung kulihat ']\n",
            "['aku menghias ke ke ']\n",
            "['kanan ke naik sekali tinggi gunung pohon ']\n",
            "['menghias ke kau ']\n",
            "['pohon pohon ke naik sekali gunung ']\n",
            "['saja banyak cemara sekali ']\n",
            "['gunung kiri banyak tinggi ke kiri puncak ']\n",
            "['gampang puyuh puyuh makan kasar ']\n"
          ]
        }
      ]
    },
    {
      "cell_type": "code",
      "source": [
        "tfidf = TfidfVectorizer()\n",
        "tfidf.fit(sentences)\n",
        "v_sentences = tfidf.transform(sentences).toarray()"
      ],
      "metadata": {
        "id": "1aibyd3GpVlp"
      },
      "execution_count": 130,
      "outputs": []
    },
    {
      "cell_type": "code",
      "source": [
        "cari = 'gunung kiri banyak tinggi ke kiri puncak'\n",
        "v_cari = tfidf.transform([cari]).toarray()\n",
        "indeks = 0\n",
        "hasil = 0"
      ],
      "metadata": {
        "id": "NFsb6v76paXU"
      },
      "execution_count": 131,
      "outputs": []
    },
    {
      "cell_type": "code",
      "source": [
        "from sklearn.metrics.pairwise import cosine_similarity\n",
        "for i, v in enumerate(v_sentences):\n",
        "  mirip = cosine_similarity([v], v_cari)\n",
        "  if mirip > hasil :\n",
        "    hasil = mirip\n",
        "    indeks = i\n",
        "print(sentences[indeks])"
      ],
      "metadata": {
        "colab": {
          "base_uri": "https://localhost:8080/"
        },
        "id": "qTFUVlntpgNH",
        "outputId": "167058b2-8657-49c9-ad31-c20d7c8d95d6"
      },
      "execution_count": 132,
      "outputs": [
        {
          "output_type": "stream",
          "name": "stdout",
          "text": [
            "gampang puyuh puyuh makan kasar \n"
          ]
        }
      ]
    },
    {
      "cell_type": "code",
      "source": [
        "folder_path = '/content/uas'\n",
        "search_text = 'gampang puyuh puyuh makan kasar'\n",
        "matching_files = []\n",
        "for filename in os.listdir(folder_path):\n",
        "    file_path = os.path.join(folder_path, filename)\n",
        "    if os.path.isfile(file_path) and file_path.endswith('.txt'):\n",
        "        with open(file_path, 'r') as f:\n",
        "            text = f.read()\n",
        "            if search_text in text:\n",
        "                matching_files.append(file_path)\n",
        "                print(file_path)"
      ],
      "metadata": {
        "colab": {
          "base_uri": "https://localhost:8080/"
        },
        "id": "ECIT3w_Uq86_",
        "outputId": "635debdd-5a16-4e0f-e83f-75dbd96ca883"
      },
      "execution_count": 133,
      "outputs": [
        {
          "output_type": "stream",
          "name": "stdout",
          "text": [
            "/content/uas/104.txt\n"
          ]
        }
      ]
    }
  ]
}