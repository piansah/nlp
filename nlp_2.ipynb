{
  "cells": [
    {
      "cell_type": "code",
      "execution_count": 3,
      "metadata": {
        "colab": {
          "base_uri": "https://localhost:8080/"
        },
        "id": "8INyi5RGIiBJ",
        "outputId": "faec980d-222a-435c-8ed3-253a52595630"
      },
      "outputs": [
        {
          "data": {
            "text/plain": [
              "['aku suka ayam', 'ayam suka suka aja', 'aku aja yang makan']"
            ]
          },
          "execution_count": 3,
          "metadata": {},
          "output_type": "execute_result"
        }
      ],
      "source": [
        "D = ['AKU SUKA AYAM', 'AYAM SUKA SUKA AJA', 'AKU AJA YANG MAKAN']\n",
        "D = [x.lower() for x in D]\n",
        "D"
      ]
    },
    {
      "cell_type": "code",
      "execution_count": null,
      "metadata": {
        "colab": {
          "base_uri": "https://localhost:8080/"
        },
        "id": "tpt5oHEQLrnH",
        "outputId": "4bb33f21-9903-485b-8321-3936498d20f4"
      },
      "outputs": [
        {
          "name": "stdout",
          "output_type": "stream",
          "text": [
            "0\n",
            "1\n",
            "2\n",
            "3\n",
            "4\n",
            "5\n",
            "6\n",
            "7\n",
            "8\n",
            "9\n",
            "10\n"
          ]
        }
      ],
      "source": [
        "for i in range(11):\n",
        "  print(i)"
      ]
    },
    {
      "cell_type": "code",
      "execution_count": null,
      "metadata": {
        "colab": {
          "base_uri": "https://localhost:8080/"
        },
        "id": "Cred-_VhUwt-",
        "outputId": "fbd5dbcb-d59b-4518-c866-97aade015bd4"
      },
      "outputs": [
        {
          "data": {
            "text/plain": [
              "[0, 1, 2, 3, 4, 5, 6, 7, 8, 9, 10]"
            ]
          },
          "execution_count": 29,
          "metadata": {},
          "output_type": "execute_result"
        }
      ],
      "source": [
        "#fersi singkat cetak 0-10 dengan masuk ke dalam list\n",
        "[i for i in range(11)]"
      ]
    },
    {
      "cell_type": "code",
      "execution_count": null,
      "metadata": {
        "colab": {
          "base_uri": "https://localhost:8080/"
        },
        "id": "GRREWnDeL4Xl",
        "outputId": "8d065051-a700-41bf-e68b-2e51caaca4e0"
      },
      "outputs": [
        {
          "data": {
            "text/plain": [
              "['aaaaaaaaaa', 'iiiiiiiiii', 'uuuuuuuuuu']"
            ]
          },
          "execution_count": 30,
          "metadata": {},
          "output_type": "execute_result"
        }
      ],
      "source": [
        "[i*10 for i in ('a','i','u')]"
      ]
    },
    {
      "cell_type": "code",
      "execution_count": null,
      "metadata": {
        "colab": {
          "base_uri": "https://localhost:8080/"
        },
        "id": "0_J-m5DqR7h4",
        "outputId": "cf068843-6fcd-41af-ee68-d198ea6425c1"
      },
      "outputs": [
        {
          "data": {
            "text/plain": [
              "['PPPPPPPPPP', 'IIIIIIIIII', 'AAAAAAAAAA', 'NNNNNNNNNN']"
            ]
          },
          "execution_count": 31,
          "metadata": {},
          "output_type": "execute_result"
        }
      ],
      "source": [
        "[i*10 for i in ('P','I','A','N')]"
      ]
    },
    {
      "cell_type": "code",
      "execution_count": null,
      "metadata": {
        "colab": {
          "base_uri": "https://localhost:8080/"
        },
        "id": "CsZSeMAaM6xd",
        "outputId": "ed21dc02-6282-46b8-f605-1bec17966514"
      },
      "outputs": [
        {
          "data": {
            "text/plain": [
              "['aku suka ayam', 'ayam suka suka aja', 'aku aja yang makan']"
            ]
          },
          "execution_count": 32,
          "metadata": {},
          "output_type": "execute_result"
        }
      ],
      "source": [
        "[i for i in D]"
      ]
    },
    {
      "cell_type": "code",
      "execution_count": null,
      "metadata": {
        "colab": {
          "base_uri": "https://localhost:8080/"
        },
        "id": "dSQ8FHtLU5Xu",
        "outputId": "d1550d18-64a3-41f0-e317-3c4f265e822d"
      },
      "outputs": [
        {
          "data": {
            "text/plain": [
              "['aku suka ayam', 'ayam suka suka aja', 'aku aja yang makan']"
            ]
          },
          "execution_count": 33,
          "metadata": {},
          "output_type": "execute_result"
        }
      ],
      "source": [
        "L = [i.lower() for i in D]\n",
        "L"
      ]
    },
    {
      "cell_type": "code",
      "execution_count": null,
      "metadata": {
        "colab": {
          "base_uri": "https://localhost:8080/"
        },
        "id": "rQ8XZkfCOCih",
        "outputId": "bb481db5-58a7-40cb-ca55-5baf47bdb0a6"
      },
      "outputs": [
        {
          "name": "stdout",
          "output_type": "stream",
          "text": [
            "a\n",
            "k\n",
            "u\n",
            " \n",
            "a\n",
            "y\n",
            "a\n",
            "m\n"
          ]
        }
      ],
      "source": [
        "for ah in 'aku ayam':\n",
        "  print(ah)"
      ]
    },
    {
      "cell_type": "code",
      "execution_count": null,
      "metadata": {
        "colab": {
          "base_uri": "https://localhost:8080/"
        },
        "id": "sPYvFDwVRYS1",
        "outputId": "911f276e-c9a0-40f4-fca0-fd23f1d77cac"
      },
      "outputs": [
        {
          "data": {
            "text/plain": [
              "['k', 'y', 'k']"
            ]
          },
          "execution_count": 35,
          "metadata": {},
          "output_type": "execute_result"
        }
      ],
      "source": [
        "[x[1] for x in D]"
      ]
    },
    {
      "cell_type": "code",
      "execution_count": null,
      "metadata": {
        "colab": {
          "base_uri": "https://localhost:8080/"
        },
        "id": "2QktD_goRIAb",
        "outputId": "3e7b2cae-f6c9-4c62-ca3b-257f9e572fb4"
      },
      "outputs": [
        {
          "data": {
            "text/plain": [
              "[13, 18, 18]"
            ]
          },
          "execution_count": 36,
          "metadata": {},
          "output_type": "execute_result"
        }
      ],
      "source": [
        "N = [len(i) for i in D]\n",
        "N"
      ]
    },
    {
      "cell_type": "markdown",
      "metadata": {
        "id": "xGxqY1uLO1YA"
      },
      "source": [
        "#memisahkan kata dengan spasi\n",
        "uhm = 'ayam goreng krispi'\n",
        "uhm = uhm.split()\n",
        "print(len(uhm))\n",
        "print(uhm)"
      ]
    },
    {
      "cell_type": "code",
      "execution_count": null,
      "metadata": {
        "colab": {
          "base_uri": "https://localhost:8080/"
        },
        "id": "D_SV-Q0nTb2o",
        "outputId": "7b7fd03a-a2d6-48cb-9e93-13f96038977b"
      },
      "outputs": [
        {
          "data": {
            "text/plain": [
              "TfidfVectorizer()"
            ]
          },
          "execution_count": 37,
          "metadata": {},
          "output_type": "execute_result"
        }
      ],
      "source": [
        "#mengimport liblary  TfidfVectorizer dari sklearn\n",
        "from sklearn.feature_extraction.text import TfidfVectorizer\n",
        "otak = TfidfVectorizer()\n",
        "otak.fit(D)"
      ]
    },
    {
      "cell_type": "code",
      "execution_count": null,
      "metadata": {
        "colab": {
          "base_uri": "https://localhost:8080/"
        },
        "id": "KTXdo1iHVFi6",
        "outputId": "28bf2773-2fe4-4aab-ed80-db08664cf3b1"
      },
      "outputs": [
        {
          "data": {
            "text/plain": [
              "array([[0.        , 0.57735027, 0.57735027, 0.        , 0.57735027,\n",
              "        0.        ],\n",
              "       [0.40824829, 0.        , 0.40824829, 0.        , 0.81649658,\n",
              "        0.        ],\n",
              "       [0.42804604, 0.42804604, 0.        , 0.5628291 , 0.        ,\n",
              "        0.5628291 ]])"
            ]
          },
          "execution_count": 38,
          "metadata": {},
          "output_type": "execute_result"
        }
      ],
      "source": [
        "#mengkonversi dari text ke angka\n",
        "y = otak.transform(D)\n",
        "y = y.toarray()\n",
        "y"
      ]
    },
    {
      "cell_type": "code",
      "execution_count": null,
      "metadata": {
        "colab": {
          "base_uri": "https://localhost:8080/"
        },
        "id": "IhxQrPMCVkI3",
        "outputId": "d2054117-d46e-49c0-b951-a31af7d832dc"
      },
      "outputs": [
        {
          "data": {
            "text/plain": [
              "['aja', 'aku', 'ayam', 'makan', 'suka', 'yang']"
            ]
          },
          "execution_count": 39,
          "metadata": {},
          "output_type": "execute_result"
        }
      ],
      "source": [
        "#menampilkan kata yang ada\n",
        "otak.get_feature_names()"
      ]
    },
    {
      "cell_type": "code",
      "execution_count": null,
      "metadata": {
        "colab": {
          "base_uri": "https://localhost:8080/"
        },
        "id": "bROC7FO7WpxL",
        "outputId": "aacc75e0-f901-412d-b9e3-3c745a7a10c3"
      },
      "outputs": [
        {
          "data": {
            "text/plain": [
              "array([1.28768207, 1.28768207, 1.28768207, 1.69314718, 1.28768207,\n",
              "       1.69314718])"
            ]
          },
          "execution_count": 40,
          "metadata": {},
          "output_type": "execute_result"
        }
      ],
      "source": [
        "#mencetak nilai nilai idf\n",
        "otak.idf_"
      ]
    },
    {
      "cell_type": "code",
      "execution_count": null,
      "metadata": {
        "colab": {
          "base_uri": "https://localhost:8080/"
        },
        "id": "P-tKHEWratAD",
        "outputId": "b8664ba0-cadc-4123-89bb-004a39df79c1"
      },
      "outputs": [
        {
          "name": "stdout",
          "output_type": "stream",
          "text": [
            "[[0.         0.70710678 0.70710678 0.         0.         0.        ]]\n"
          ]
        }
      ],
      "source": [
        "z = otak.transform(['dek aku benci ayam kamu']).toarray()\n",
        "print(z)"
      ]
    },
    {
      "cell_type": "code",
      "execution_count": null,
      "metadata": {
        "colab": {
          "base_uri": "https://localhost:8080/"
        },
        "id": "bk4a4b7JeP5h",
        "outputId": "d0ec2c5f-74dd-4a43-9ec4-f77a4a86f969"
      },
      "outputs": [
        {
          "data": {
            "text/plain": [
              "['kkn di desa penari adalah film horor indonesia tahun 2022 yang disutradarai oleh awi suryadi berdasarkan cerita viral berjudul sama karya simpleman',\n",
              " ' film produksi md pictures serta pichouse films ini dibintangi oleh tissa biani, adinda thomas, dan achmad megantara',\n",
              " ' kkn di desa penari tayang perdana di bioskop indonesia pada 30 april 2022',\n",
              " ' film ini sempat dijadwalkan akan tayang pada 19 maret 2020 dan 24 februari 2022',\n",
              " ' namun, keduanya dibatalkan karena pandemi covid-19',\n",
              " ' sinopsis nur, widya, ayu, bima, anton, dan wahyu melaksanakan kuliah kerja nyata (kkn) di sebuah desa terpencil',\n",
              " ' namun, mereka sama sekali tidak menyangka bahwa desa yang mereka pilih bukanlah desa biasa',\n",
              " ' pak prabu, sang kepala desa telah memperingatkan mereka untuk tidak melewati batas gapura terlarang',\n",
              " ' beberapa hari di desa tersebut, mereka mulai merasakan keanehan',\n",
              " ' bima mengalami perubahan sikap dan program kkn mereka akhirnya berantakan',\n",
              " ' mereka pun mendapatkan teror sosok penari misterius menyeramkan',\n",
              " ' mereka meminta bantuan mbah buyut, dukun setempat',\n",
              " ' sayangnya, mereka terancam tidak bisa pulang dengan selamat dari desa yang dikenal dengan sebutan desa penari tersebut',\n",
              " '']"
            ]
          },
          "execution_count": 42,
          "metadata": {},
          "output_type": "execute_result"
        }
      ],
      "source": [
        "Kalimat = 'KKN di Desa Penari adalah film horor Indonesia tahun 2022 yang disutradarai oleh Awi Suryadi berdasarkan cerita viral berjudul sama karya SimpleMan. Film produksi MD Pictures serta Pichouse Films ini dibintangi oleh Tissa Biani, Adinda Thomas, dan Achmad Megantara. KKN di Desa Penari tayang perdana di bioskop Indonesia pada 30 April 2022. Film ini sempat dijadwalkan akan tayang pada 19 Maret 2020 dan 24 Februari 2022. Namun, keduanya dibatalkan karena pandemi Covid-19. Sinopsis Nur, Widya, Ayu, Bima, Anton, dan Wahyu melaksanakan kuliah kerja nyata (KKN) di sebuah desa terpencil. Namun, mereka sama sekali tidak menyangka bahwa desa yang mereka pilih bukanlah desa biasa. Pak Prabu, sang kepala desa telah memperingatkan mereka untuk tidak melewati batas gapura terlarang. Beberapa hari di desa tersebut, mereka mulai merasakan keanehan. Bima mengalami perubahan sikap dan program KKN mereka akhirnya berantakan. Mereka pun mendapatkan teror sosok penari misterius menyeramkan. Mereka meminta bantuan Mbah Buyut, dukun setempat. Sayangnya, mereka terancam tidak bisa pulang dengan selamat dari desa yang dikenal dengan sebutan desa penari tersebut.'\n",
        "Kalimat = Kalimat.split('.')\n",
        "Kalimat = [i.lower() for i in Kalimat]\n",
        "Kalimat"
      ]
    },
    {
      "cell_type": "code",
      "execution_count": null,
      "metadata": {
        "colab": {
          "base_uri": "https://localhost:8080/"
        },
        "id": "pOYJe0I9frgR",
        "outputId": "d7bd932c-cf14-443c-a59d-eec3468ef144"
      },
      "outputs": [
        {
          "data": {
            "text/plain": [
              "TfidfVectorizer()"
            ]
          },
          "execution_count": 43,
          "metadata": {},
          "output_type": "execute_result"
        }
      ],
      "source": [
        "from sklearn.feature_extraction.text import TfidfVectorizer\n",
        "otak = TfidfVectorizer()\n",
        "otak.fit(Kalimat)"
      ]
    },
    {
      "cell_type": "code",
      "execution_count": null,
      "metadata": {
        "colab": {
          "base_uri": "https://localhost:8080/"
        },
        "id": "m4MVL6iohR0t",
        "outputId": "995ae0d7-96b4-4301-cce1-533fa029bc92"
      },
      "outputs": [
        {
          "data": {
            "text/plain": [
              "array([2.60943791, 3.01490302, 2.32175584, 3.01490302, 3.01490302,\n",
              "       3.01490302, 3.01490302, 3.01490302, 3.01490302, 3.01490302,\n",
              "       3.01490302, 3.01490302, 3.01490302, 3.01490302, 3.01490302,\n",
              "       3.01490302, 3.01490302, 3.01490302, 3.01490302, 3.01490302,\n",
              "       3.01490302, 3.01490302, 3.01490302, 2.60943791, 3.01490302,\n",
              "       3.01490302, 3.01490302, 3.01490302, 3.01490302, 3.01490302,\n",
              "       2.09861229, 3.01490302, 3.01490302, 1.62860866, 2.09861229,\n",
              "       3.01490302, 3.01490302, 3.01490302, 3.01490302, 3.01490302,\n",
              "       3.01490302, 3.01490302, 2.32175584, 3.01490302, 3.01490302,\n",
              "       3.01490302, 3.01490302, 2.60943791, 2.60943791, 3.01490302,\n",
              "       3.01490302, 3.01490302, 3.01490302, 3.01490302, 3.01490302,\n",
              "       2.09861229, 3.01490302, 3.01490302, 3.01490302, 3.01490302,\n",
              "       3.01490302, 3.01490302, 3.01490302, 3.01490302, 3.01490302,\n",
              "       3.01490302, 3.01490302, 3.01490302, 3.01490302, 3.01490302,\n",
              "       1.62860866, 3.01490302, 3.01490302, 2.60943791, 3.01490302,\n",
              "       3.01490302, 2.60943791, 2.60943791, 3.01490302, 3.01490302,\n",
              "       2.09861229, 3.01490302, 3.01490302, 3.01490302, 3.01490302,\n",
              "       3.01490302, 3.01490302, 3.01490302, 3.01490302, 3.01490302,\n",
              "       3.01490302, 2.60943791, 3.01490302, 3.01490302, 3.01490302,\n",
              "       3.01490302, 3.01490302, 3.01490302, 3.01490302, 3.01490302,\n",
              "       3.01490302, 3.01490302, 3.01490302, 3.01490302, 3.01490302,\n",
              "       3.01490302, 3.01490302, 2.60943791, 3.01490302, 3.01490302,\n",
              "       3.01490302, 3.01490302, 3.01490302, 2.60943791, 3.01490302,\n",
              "       2.32175584, 3.01490302, 3.01490302, 3.01490302, 3.01490302,\n",
              "       3.01490302, 2.32175584])"
            ]
          },
          "execution_count": 44,
          "metadata": {},
          "output_type": "execute_result"
        }
      ],
      "source": [
        "otak.idf_"
      ]
    },
    {
      "cell_type": "code",
      "execution_count": null,
      "metadata": {
        "colab": {
          "base_uri": "https://localhost:8080/"
        },
        "id": "VnK-3VG1ezmC",
        "outputId": "4ac98da9-8db6-4f66-9c4f-887a17fdfe4c"
      },
      "outputs": [
        {
          "data": {
            "text/plain": [
              "array([[0.        , 0.        , 0.18267406, ..., 0.        , 0.        ,\n",
              "        0.18267406],\n",
              "       [0.        , 0.        , 0.        , ..., 0.        , 0.        ,\n",
              "        0.        ],\n",
              "       [0.        , 0.        , 0.24304716, ..., 0.        , 0.        ,\n",
              "        0.        ],\n",
              "       ...,\n",
              "       [0.        , 0.        , 0.        , ..., 0.        , 0.        ,\n",
              "        0.        ],\n",
              "       [0.        , 0.        , 0.        , ..., 0.        , 0.        ,\n",
              "        0.19325703],\n",
              "       [0.        , 0.        , 0.        , ..., 0.        , 0.        ,\n",
              "        0.        ]])"
            ]
          },
          "execution_count": 45,
          "metadata": {},
          "output_type": "execute_result"
        }
      ],
      "source": [
        "Kalimat = otak.transform(Kalimat)\n",
        "Kalimat = Kalimat.toarray()\n",
        "Kalimat "
      ]
    },
    {
      "cell_type": "code",
      "execution_count": null,
      "metadata": {
        "colab": {
          "base_uri": "https://localhost:8080/"
        },
        "id": "HJQ1U8e8fl67",
        "outputId": "c52594b9-9b17-496b-dac0-3b909aa4ae2c"
      },
      "outputs": [
        {
          "name": "stdout",
          "output_type": "stream",
          "text": [
            "[[0.         0.         0.         0.         0.         0.\n",
            "  0.         0.         0.         0.         0.         0.\n",
            "  0.         0.         0.         0.         0.         0.\n",
            "  0.         0.         0.         0.         0.         0.\n",
            "  0.         0.         0.         0.         0.         0.\n",
            "  0.         0.         0.         0.         0.67055764 0.\n",
            "  0.         0.         0.         0.         0.         0.\n",
            "  0.         0.         0.         0.         0.         0.\n",
            "  0.         0.         0.         0.         0.         0.\n",
            "  0.         0.         0.         0.         0.         0.\n",
            "  0.         0.         0.         0.         0.         0.\n",
            "  0.         0.         0.         0.         0.         0.\n",
            "  0.         0.         0.         0.         0.         0.\n",
            "  0.         0.         0.         0.         0.         0.\n",
            "  0.         0.         0.         0.         0.         0.\n",
            "  0.         0.         0.         0.         0.         0.\n",
            "  0.         0.         0.         0.         0.         0.\n",
            "  0.         0.         0.         0.         0.         0.\n",
            "  0.         0.         0.         0.         0.         0.\n",
            "  0.         0.         0.         0.         0.         0.\n",
            "  0.         0.74185743]]\n"
          ]
        }
      ],
      "source": [
        "Kalimat_test = 'Penyebab pasti kebakaran di Masjid Jakarta Islamic Center JIC yang merobohkan kubah masih diusut'\n",
        "uhm = otak.transform([Kalimat_test]).toarray()\n",
        "print(uhm)"
      ]
    },
    {
      "cell_type": "code",
      "execution_count": null,
      "metadata": {
        "colab": {
          "base_uri": "https://localhost:8080/"
        },
        "id": "d8FMsQdeirna",
        "outputId": "b204add7-5951-479d-c13d-d2361fb18e4b"
      },
      "outputs": [
        {
          "name": "stdout",
          "output_type": "stream",
          "text": [
            "0 19\n",
            "1 2020\n",
            "2 2022\n",
            "3 24\n",
            "4 30\n",
            "5 achmad\n",
            "6 adalah\n",
            "7 adinda\n",
            "8 akan\n",
            "9 akhirnya\n",
            "10 anton\n",
            "11 april\n",
            "12 awi\n",
            "13 ayu\n",
            "14 bahwa\n",
            "15 bantuan\n",
            "16 batas\n",
            "17 beberapa\n",
            "18 berantakan\n",
            "19 berdasarkan\n",
            "20 berjudul\n",
            "21 biani\n",
            "22 biasa\n",
            "23 bima\n",
            "24 bioskop\n",
            "25 bisa\n",
            "26 bukanlah\n",
            "27 buyut\n",
            "28 cerita\n",
            "29 covid\n",
            "30 dan\n",
            "31 dari\n",
            "32 dengan\n",
            "33 desa\n",
            "34 di\n",
            "35 dibatalkan\n",
            "36 dibintangi\n",
            "37 dijadwalkan\n",
            "38 dikenal\n",
            "39 disutradarai\n",
            "40 dukun\n",
            "41 februari\n",
            "42 film\n",
            "43 films\n",
            "44 gapura\n",
            "45 hari\n",
            "46 horor\n",
            "47 indonesia\n",
            "48 ini\n",
            "49 karena\n",
            "50 karya\n",
            "51 keanehan\n",
            "52 keduanya\n",
            "53 kepala\n",
            "54 kerja\n",
            "55 kkn\n",
            "56 kuliah\n",
            "57 maret\n",
            "58 mbah\n",
            "59 md\n",
            "60 megantara\n",
            "61 melaksanakan\n",
            "62 melewati\n",
            "63 meminta\n",
            "64 memperingatkan\n",
            "65 mendapatkan\n",
            "66 mengalami\n",
            "67 menyangka\n",
            "68 menyeramkan\n",
            "69 merasakan\n",
            "70 mereka\n",
            "71 misterius\n",
            "72 mulai\n",
            "73 namun\n",
            "74 nur\n",
            "75 nyata\n",
            "76 oleh\n",
            "77 pada\n",
            "78 pak\n",
            "79 pandemi\n",
            "80 penari\n",
            "81 perdana\n",
            "82 perubahan\n",
            "83 pichouse\n",
            "84 pictures\n",
            "85 pilih\n",
            "86 prabu\n",
            "87 produksi\n",
            "88 program\n",
            "89 pulang\n",
            "90 pun\n",
            "91 sama\n",
            "92 sang\n",
            "93 sayangnya\n",
            "94 sebuah\n",
            "95 sebutan\n",
            "96 sekali\n",
            "97 selamat\n",
            "98 sempat\n",
            "99 serta\n",
            "100 setempat\n",
            "101 sikap\n",
            "102 simpleman\n",
            "103 sinopsis\n",
            "104 sosok\n",
            "105 suryadi\n",
            "106 tahun\n",
            "107 tayang\n",
            "108 telah\n",
            "109 terancam\n",
            "110 terlarang\n",
            "111 teror\n",
            "112 terpencil\n",
            "113 tersebut\n",
            "114 thomas\n",
            "115 tidak\n",
            "116 tissa\n",
            "117 untuk\n",
            "118 viral\n",
            "119 wahyu\n",
            "120 widya\n",
            "121 yang\n"
          ]
        }
      ],
      "source": [
        "for c,i in enumerate(otak.get_feature_names()):\n",
        "  print(c,i)"
      ]
    },
    {
      "cell_type": "code",
      "execution_count": null,
      "metadata": {
        "colab": {
          "base_uri": "https://localhost:8080/"
        },
        "id": "szKGW1Lvjr2i",
        "outputId": "fcb807d4-6084-4798-bfbd-8f258b8bcfbf"
      },
      "outputs": [
        {
          "name": "stdout",
          "output_type": "stream",
          "text": [
            "[[0.0, '19'], [0.0, '2020'], [0.0, '2022'], [0.0, '24'], [0.0, '30'], [0.0, 'achmad'], [0.0, 'adalah'], [0.0, 'adinda'], [0.0, 'akan'], [0.0, 'akhirnya'], [0.0, 'anton'], [0.0, 'april'], [0.0, 'awi'], [0.0, 'ayu'], [0.0, 'bahwa'], [0.0, 'bantuan'], [0.0, 'batas'], [0.0, 'beberapa'], [0.0, 'berantakan'], [0.0, 'berdasarkan'], [0.0, 'berjudul'], [0.0, 'biani'], [0.0, 'biasa'], [0.0, 'bima'], [0.0, 'bioskop'], [0.0, 'bisa'], [0.0, 'bukanlah'], [0.0, 'buyut'], [0.0, 'cerita'], [0.0, 'covid'], [0.0, 'dan'], [0.0, 'dari'], [0.0, 'dengan'], [0.0, 'desa'], [0.6705576422241619, 'di'], [0.0, 'dibatalkan'], [0.0, 'dibintangi'], [0.0, 'dijadwalkan'], [0.0, 'dikenal'], [0.0, 'disutradarai'], [0.0, 'dukun'], [0.0, 'februari'], [0.0, 'film'], [0.0, 'films'], [0.0, 'gapura'], [0.0, 'hari'], [0.0, 'horor'], [0.0, 'indonesia'], [0.0, 'ini'], [0.0, 'karena'], [0.0, 'karya'], [0.0, 'keanehan'], [0.0, 'keduanya'], [0.0, 'kepala'], [0.0, 'kerja'], [0.0, 'kkn'], [0.0, 'kuliah'], [0.0, 'maret'], [0.0, 'mbah'], [0.0, 'md'], [0.0, 'megantara'], [0.0, 'melaksanakan'], [0.0, 'melewati'], [0.0, 'meminta'], [0.0, 'memperingatkan'], [0.0, 'mendapatkan'], [0.0, 'mengalami'], [0.0, 'menyangka'], [0.0, 'menyeramkan'], [0.0, 'merasakan'], [0.0, 'mereka'], [0.0, 'misterius'], [0.0, 'mulai'], [0.0, 'namun'], [0.0, 'nur'], [0.0, 'nyata'], [0.0, 'oleh'], [0.0, 'pada'], [0.0, 'pak'], [0.0, 'pandemi'], [0.0, 'penari'], [0.0, 'perdana'], [0.0, 'perubahan'], [0.0, 'pichouse'], [0.0, 'pictures'], [0.0, 'pilih'], [0.0, 'prabu'], [0.0, 'produksi'], [0.0, 'program'], [0.0, 'pulang'], [0.0, 'pun'], [0.0, 'sama'], [0.0, 'sang'], [0.0, 'sayangnya'], [0.0, 'sebuah'], [0.0, 'sebutan'], [0.0, 'sekali'], [0.0, 'selamat'], [0.0, 'sempat'], [0.0, 'serta'], [0.0, 'setempat'], [0.0, 'sikap'], [0.0, 'simpleman'], [0.0, 'sinopsis'], [0.0, 'sosok'], [0.0, 'suryadi'], [0.0, 'tahun'], [0.0, 'tayang'], [0.0, 'telah'], [0.0, 'terancam'], [0.0, 'terlarang'], [0.0, 'teror'], [0.0, 'terpencil'], [0.0, 'tersebut'], [0.0, 'thomas'], [0.0, 'tidak'], [0.0, 'tissa'], [0.0, 'untuk'], [0.0, 'viral'], [0.0, 'wahyu'], [0.0, 'widya'], [0.7418574313537425, 'yang']]\n"
          ]
        }
      ],
      "source": [
        "kresek = []\n",
        "for c,i in enumerate(otak.get_feature_names()):\n",
        "  rank = [uhm[0,c], i]\n",
        "  kresek.append(rank)\n",
        "print(kresek)"
      ]
    },
    {
      "cell_type": "code",
      "execution_count": null,
      "metadata": {
        "colab": {
          "base_uri": "https://localhost:8080/"
        },
        "id": "TEuR38TVlsWE",
        "outputId": "9281f0c4-3de5-4c19-bbf3-7afc32535124"
      },
      "outputs": [
        {
          "data": {
            "text/plain": [
              "[[0.0, '19'],\n",
              " [0.0, '2020'],\n",
              " [0.0, '2022'],\n",
              " [0.0, '24'],\n",
              " [0.0, '30'],\n",
              " [0.0, 'achmad'],\n",
              " [0.0, 'adalah'],\n",
              " [0.0, 'adinda'],\n",
              " [0.0, 'akan'],\n",
              " [0.0, 'akhirnya'],\n",
              " [0.0, 'anton'],\n",
              " [0.0, 'april'],\n",
              " [0.0, 'awi'],\n",
              " [0.0, 'ayu'],\n",
              " [0.0, 'bahwa'],\n",
              " [0.0, 'bantuan'],\n",
              " [0.0, 'batas'],\n",
              " [0.0, 'beberapa'],\n",
              " [0.0, 'berantakan'],\n",
              " [0.0, 'berdasarkan'],\n",
              " [0.0, 'berjudul'],\n",
              " [0.0, 'biani'],\n",
              " [0.0, 'biasa'],\n",
              " [0.0, 'bima'],\n",
              " [0.0, 'bioskop'],\n",
              " [0.0, 'bisa'],\n",
              " [0.0, 'bukanlah'],\n",
              " [0.0, 'buyut'],\n",
              " [0.0, 'cerita'],\n",
              " [0.0, 'covid'],\n",
              " [0.0, 'dan'],\n",
              " [0.0, 'dari'],\n",
              " [0.0, 'dengan'],\n",
              " [0.0, 'desa'],\n",
              " [0.0, 'dibatalkan'],\n",
              " [0.0, 'dibintangi'],\n",
              " [0.0, 'dijadwalkan'],\n",
              " [0.0, 'dikenal'],\n",
              " [0.0, 'disutradarai'],\n",
              " [0.0, 'dukun'],\n",
              " [0.0, 'februari'],\n",
              " [0.0, 'film'],\n",
              " [0.0, 'films'],\n",
              " [0.0, 'gapura'],\n",
              " [0.0, 'hari'],\n",
              " [0.0, 'horor'],\n",
              " [0.0, 'indonesia'],\n",
              " [0.0, 'ini'],\n",
              " [0.0, 'karena'],\n",
              " [0.0, 'karya'],\n",
              " [0.0, 'keanehan'],\n",
              " [0.0, 'keduanya'],\n",
              " [0.0, 'kepala'],\n",
              " [0.0, 'kerja'],\n",
              " [0.0, 'kkn'],\n",
              " [0.0, 'kuliah'],\n",
              " [0.0, 'maret'],\n",
              " [0.0, 'mbah'],\n",
              " [0.0, 'md'],\n",
              " [0.0, 'megantara'],\n",
              " [0.0, 'melaksanakan'],\n",
              " [0.0, 'melewati'],\n",
              " [0.0, 'meminta'],\n",
              " [0.0, 'memperingatkan'],\n",
              " [0.0, 'mendapatkan'],\n",
              " [0.0, 'mengalami'],\n",
              " [0.0, 'menyangka'],\n",
              " [0.0, 'menyeramkan'],\n",
              " [0.0, 'merasakan'],\n",
              " [0.0, 'mereka'],\n",
              " [0.0, 'misterius'],\n",
              " [0.0, 'mulai'],\n",
              " [0.0, 'namun'],\n",
              " [0.0, 'nur'],\n",
              " [0.0, 'nyata'],\n",
              " [0.0, 'oleh'],\n",
              " [0.0, 'pada'],\n",
              " [0.0, 'pak'],\n",
              " [0.0, 'pandemi'],\n",
              " [0.0, 'penari'],\n",
              " [0.0, 'perdana'],\n",
              " [0.0, 'perubahan'],\n",
              " [0.0, 'pichouse'],\n",
              " [0.0, 'pictures'],\n",
              " [0.0, 'pilih'],\n",
              " [0.0, 'prabu'],\n",
              " [0.0, 'produksi'],\n",
              " [0.0, 'program'],\n",
              " [0.0, 'pulang'],\n",
              " [0.0, 'pun'],\n",
              " [0.0, 'sama'],\n",
              " [0.0, 'sang'],\n",
              " [0.0, 'sayangnya'],\n",
              " [0.0, 'sebuah'],\n",
              " [0.0, 'sebutan'],\n",
              " [0.0, 'sekali'],\n",
              " [0.0, 'selamat'],\n",
              " [0.0, 'sempat'],\n",
              " [0.0, 'serta'],\n",
              " [0.0, 'setempat'],\n",
              " [0.0, 'sikap'],\n",
              " [0.0, 'simpleman'],\n",
              " [0.0, 'sinopsis'],\n",
              " [0.0, 'sosok'],\n",
              " [0.0, 'suryadi'],\n",
              " [0.0, 'tahun'],\n",
              " [0.0, 'tayang'],\n",
              " [0.0, 'telah'],\n",
              " [0.0, 'terancam'],\n",
              " [0.0, 'terlarang'],\n",
              " [0.0, 'teror'],\n",
              " [0.0, 'terpencil'],\n",
              " [0.0, 'tersebut'],\n",
              " [0.0, 'thomas'],\n",
              " [0.0, 'tidak'],\n",
              " [0.0, 'tissa'],\n",
              " [0.0, 'untuk'],\n",
              " [0.0, 'viral'],\n",
              " [0.0, 'wahyu'],\n",
              " [0.0, 'widya'],\n",
              " [0.6705576422241619, 'di'],\n",
              " [0.7418574313537425, 'yang']]"
            ]
          },
          "execution_count": 49,
          "metadata": {},
          "output_type": "execute_result"
        }
      ],
      "source": [
        "kresek.sort()\n",
        "kresek"
      ]
    },
    {
      "cell_type": "code",
      "execution_count": null,
      "metadata": {
        "colab": {
          "base_uri": "https://localhost:8080/"
        },
        "id": "JlhezAFXl7Ja",
        "outputId": "3b4c9542-fbc2-4975-a519-9f5b6466863f"
      },
      "outputs": [
        {
          "name": "stdout",
          "output_type": "stream",
          "text": [
            "[0.7418574313537425, 'yang']\n",
            "yang\n"
          ]
        }
      ],
      "source": [
        "print(kresek[-1])\n",
        "print(kresek[-1][1])"
      ]
    },
    {
      "cell_type": "code",
      "execution_count": null,
      "metadata": {
        "id": "R4r5H0fKmGtt"
      },
      "outputs": [],
      "source": []
    }
  ],
  "metadata": {
    "colab": {
      "collapsed_sections": [],
      "provenance": []
    },
    "kernelspec": {
      "display_name": "Python 3.10.6 ('python')",
      "language": "python",
      "name": "python3"
    },
    "language_info": {
      "codemirror_mode": {
        "name": "ipython",
        "version": 3
      },
      "file_extension": ".py",
      "mimetype": "text/x-python",
      "name": "python",
      "nbconvert_exporter": "python",
      "pygments_lexer": "ipython3",
      "version": "3.10.6"
    },
    "vscode": {
      "interpreter": {
        "hash": "45bf7f17dadebdc581538a04e72eec4af353140a24cf5b2bc98c1d568cfdbf7d"
      }
    }
  },
  "nbformat": 4,
  "nbformat_minor": 0
}
